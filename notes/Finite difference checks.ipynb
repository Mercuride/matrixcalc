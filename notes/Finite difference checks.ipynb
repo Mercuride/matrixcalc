{
 "cells": [
  {
   "cell_type": "markdown",
   "id": "1e576cd6",
   "metadata": {},
   "source": [
    "# Hand-calculated derivative rules: Error prone\n",
    "\n",
    "Hand-computation of derivatives of complicated functions involving vectors and matrices is **error-prone**, and is a common source of bugs when performing numerical optimization, root-finding, sensitivity-analysis, etcetera.\n",
    "\n",
    "The ideal alternative is to use **automatic differentiation (AD)**:\n",
    "* AD lets software/compilers perform the derivatives for you.  This is extremely reliable and, with modern AD software, can be very efficient.\n",
    "* Unfortunately, there is still lots of code, e.g. code calling external libraries in other languages, that AD tools can't comprehend.\n",
    "* And there are other cases where AD \"needs help\" — for example, if you are computing an answer *approximately* (e.g. solving a nonlinear equation by Newton's method), AD can waste a lot of effort trying to *exactly differentiate the error* in your approximation.   Often, you can compute the approximate answer (to the same accuracy) much more efficiently.\n",
    "* Even in cases where AD falls down, often you only need to give it a **little help**: define a differentiation rule for a *small piece* of your program and let AD handle the rest.  In Julia, this is done with by defining a [\"ChainRule\"](https://github.com/JuliaDiff/ChainRulesCore.jl), and in Python autograd/JAX it is done by defining a custom \"vJp\" (row-vector—Jacobian product) and/or \"Jvp\" (Jacobian–vector product).\n",
    "\n",
    "If you do have to work out your own derivative rule, you *really* need to **check** it against something \"brute force\" and hard to get wrong.  The usual candidate is…"
   ]
  },
  {
   "cell_type": "markdown",
   "id": "b2d90dbc",
   "metadata": {},
   "source": [
    "# Finite-difference approximations: Easy version\n",
    "\n",
    "The simplest way to check a derivative is to recall that the definition of a differential:\n",
    "$$\n",
    "df = f(x+dx) - f(x) = f'(x) dx\n",
    "$$\n",
    "came from dropping higher-order terms from a small but finite difference:\n",
    "$$\n",
    "\\delta f = f(x+\\delta x) - f(x) = f'(x) \\delta x + o(\\Vert \\delta x \\Vert) \\, .\n",
    "$$\n",
    "So, we can just compare the **finite difference** $\\boxed{f(x+\\delta x) - f(x)}$ to our **(directional) derivative operator** $f'(x) \\delta x$ (i.e. the derivative in the direction $\\delta x$).\n",
    "\n",
    "$f(x+\\delta x) - f(x)$ is also called a **forward difference** approximation.  We'll look at other possibilities below.\n",
    "\n",
    "If $x$ is a scalar, we can also divide both sides by $\\delta x$ to get an approximation for $f'(x)$ instead of for $df$:\n",
    "$$\n",
    "f'(x) \\approx \\frac{f(x+\\delta x) - f(x)}{\\delta x} + \\text{(higher-order corrections)} \\, .\n",
    "$$\n",
    "This is a more common way to write the forward-difference approximation, but it only works for scalar $x$, whereas in this class we want to think of $x$ as perhaps belonging to some other vector space.\n",
    "\n",
    "* The antonym of a forward diffence is a **backward difference** approximation $f(x) - f(x - \\delta x) \\approx f'(x) \\delta x$ … if you just want to compute a derivative, there is not much practical distinction between forward and backward differences.  The distinction becomes more important when discretizing (approximating) differential equations.\n",
    "\n",
    "* Finite-difference approximations come in many forms, but they are generally a **last resort** in cases where it's too much effort to work out an analytical derivative and AD fails.  But they are also useful to **check** your analytical derivatives and to quickly **explore**."
   ]
  },
  {
   "cell_type": "markdown",
   "id": "6a4818b6",
   "metadata": {},
   "source": [
    "## example: f(A)=A²\n",
    "\n",
    "Let's try it for $f(A) = A^2$ (a matrix-valued function of a square matrix $A \\in \\mathbb{R}^{m\\times m}$).\n",
    "\n",
    "First, we'll do it by hand via the product rule:\n",
    "\n",
    "$$\n",
    "df = A dA + dA A\n",
    "$$\n",
    "i.e. $f'(A)$ is the **linear operator** $\\boxed{f'(A)[\\delta A] = A \\delta A + \\delta A A}$.  This is **≠ 2AδA** because because **A and δA do not commute** in general.\n",
    "\n",
    "Let's check it against a finite difference.   We'll try it for a *random* input A and a *random small* perturbation $\\delta A$:"
   ]
  },
  {
   "cell_type": "code",
   "execution_count": 1,
   "id": "9d0e4943",
   "metadata": {},
   "outputs": [
    {
     "data": {
      "text/plain": [
       "4×4 Matrix{Float64}:\n",
       "  0.520322   0.370033  0.20568   -0.0456229\n",
       " -0.959744   0.249587  0.778589   0.293097\n",
       "  1.81858   -0.994377  0.107546  -0.30399\n",
       " -0.570117   0.737878  1.06214   -2.20512"
      ]
     },
     "execution_count": 1,
     "metadata": {},
     "output_type": "execute_result"
    }
   ],
   "source": [
    "f(A) = A^2\n",
    "\n",
    "A = randn(4,4) # 4×4 matrix with Gaussian random (bell curve) entries of magnitude ~ 1 (std. dev = 1)"
   ]
  },
  {
   "cell_type": "code",
   "execution_count": 2,
   "id": "3daece4e",
   "metadata": {},
   "outputs": [
    {
     "data": {
      "text/plain": [
       "4×4 Matrix{Float64}:\n",
       " -3.80649e-9   9.19467e-9   1.06933e-8    1.50031e-8\n",
       " -6.04276e-9   7.84351e-9  -7.60001e-10  -1.63839e-8\n",
       "  1.12843e-8  -1.04728e-8   1.40303e-8   -1.78966e-9\n",
       " -1.03077e-8   5.19247e-9  -2.961e-9      4.50425e-9"
      ]
     },
     "execution_count": 2,
     "metadata": {},
     "output_type": "execute_result"
    }
   ],
   "source": [
    "dA = randn(4,4) * 1e-8 # a small random perturbation ~ 10⁻⁸"
   ]
  },
  {
   "cell_type": "code",
   "execution_count": 3,
   "id": "8f0b9df7",
   "metadata": {},
   "outputs": [
    {
     "data": {
      "text/plain": [
       "4×4 Matrix{Float64}:\n",
       " -1.5134e-9    3.97195e-9  -1.51578e-8   3.46361e-8\n",
       "  1.06231e-8  -1.88703e-9   1.22231e-8  -5.74957e-8\n",
       " -3.90248e-8   1.99273e-8   2.88364e-8   4.59175e-8\n",
       "  5.07261e-8  -2.57778e-8   8.38582e-9  -2.5436e-8"
      ]
     },
     "execution_count": 3,
     "metadata": {},
     "output_type": "execute_result"
    }
   ],
   "source": [
    "A*dA - dA*A"
   ]
  },
  {
   "cell_type": "code",
   "execution_count": 4,
   "id": "542cc00d",
   "metadata": {},
   "outputs": [
    {
     "data": {
      "text/plain": [
       "4×4 Matrix{Float64}:\n",
       " -1.33741e-9   6.61927e-9   3.17649e-8  -3.22955e-8\n",
       "  5.19639e-9  -2.5111e-8   -1.30163e-8   2.03725e-8\n",
       "  4.58916e-8  -7.49312e-9   1.63864e-8   3.81115e-8\n",
       "  1.4127e-8   -1.82784e-8   2.11626e-8  -3.95163e-8"
      ]
     },
     "execution_count": 4,
     "metadata": {},
     "output_type": "execute_result"
    }
   ],
   "source": [
    "approx = f(A + dA) - f(A) # finite difference"
   ]
  },
  {
   "cell_type": "code",
   "execution_count": 5,
   "id": "e955820e",
   "metadata": {},
   "outputs": [
    {
     "data": {
      "text/plain": [
       "4×4 Matrix{Float64}:\n",
       " -1.33741e-9   6.61927e-9   3.17649e-8  -3.22955e-8\n",
       "  5.19639e-9  -2.5111e-8   -1.30163e-8   2.03725e-8\n",
       "  4.58916e-8  -7.49312e-9   1.63864e-8   3.81115e-8\n",
       "  1.4127e-8   -1.82784e-8   2.11626e-8  -3.95163e-8"
      ]
     },
     "execution_count": 5,
     "metadata": {},
     "output_type": "execute_result"
    }
   ],
   "source": [
    "exact = A*dA + dA*A # exact directional \"differential\" (linearization)"
   ]
  },
  {
   "cell_type": "code",
   "execution_count": 6,
   "id": "43cb4db7",
   "metadata": {},
   "outputs": [
    {
     "data": {
      "text/plain": [
       "4×4 Matrix{Float64}:\n",
       " -2.85081e-9   1.05912e-8   1.66071e-8   2.34057e-9\n",
       "  1.58195e-8  -2.6998e-8   -7.9313e-10  -3.71232e-8\n",
       "  6.86674e-9   1.24342e-8   4.52228e-8   8.40291e-8\n",
       "  6.48532e-8  -4.40561e-8   2.95484e-8  -6.49523e-8"
      ]
     },
     "execution_count": 6,
     "metadata": {},
     "output_type": "execute_result"
    }
   ],
   "source": [
    "2A*dA # wrong! matrices don't commute"
   ]
  },
  {
   "cell_type": "code",
   "execution_count": 7,
   "id": "20818794",
   "metadata": {},
   "outputs": [
    {
     "data": {
      "text/plain": [
       "4×4 Matrix{Float64}:\n",
       " -1.47492e-16   2.83454e-18   1.25831e-16  -1.74229e-16\n",
       "  2.6295e-16   -2.39854e-16  -3.1167e-17   -1.32538e-16\n",
       " -2.38255e-16  -8.85969e-17   3.05579e-16   2.21861e-16\n",
       "  4.90402e-16   1.70539e-16  -1.75104e-16  -7.84462e-16"
      ]
     },
     "execution_count": 7,
     "metadata": {},
     "output_type": "execute_result"
    }
   ],
   "source": [
    "approx - exact"
   ]
  },
  {
   "cell_type": "markdown",
   "id": "630c56ec",
   "metadata": {},
   "source": [
    "To be more quantitative, we might compute the \"norm\" $\\Vert \\text{approx} - \\text{exact} \\Vert$, which we want to be small.   But small **compared to what?**   The natural answer is **small compared to the correct answer**.  This is called the [relative error](https://en.wikipedia.org/wiki/Approximation_error) (or \"fractional\" error):\n",
    "$$\n",
    "\\text{relative error} = \\frac{\\Vert \\text{approx} - \\text{exact} \\Vert}{\\Vert \\text{exact}\\Vert}\n",
    "$$\n",
    "Here, $\\Vert \\cdot \\Vert$ is a [norm](https://en.wikipedia.org/wiki/Norm_(mathematics)), like the length of a vector. In Julia, the `LinearAlgebra` package provides a `norm` function, and we can use that to define a relative error:"
   ]
  },
  {
   "cell_type": "code",
   "execution_count": 8,
   "id": "45931cc4",
   "metadata": {},
   "outputs": [
    {
     "data": {
      "text/plain": [
       "relative_error (generic function with 1 method)"
      ]
     },
     "execution_count": 8,
     "metadata": {},
     "output_type": "execute_result"
    }
   ],
   "source": [
    "using LinearAlgebra\n",
    "\n",
    "relative_error(approx, exact) = norm(approx - exact) / norm(exact)"
   ]
  },
  {
   "cell_type": "markdown",
   "id": "c7dc766e",
   "metadata": {},
   "source": [
    "Let's try it on our case above:"
   ]
  },
  {
   "cell_type": "code",
   "execution_count": 9,
   "id": "1fb85dc0",
   "metadata": {},
   "outputs": [
    {
     "data": {
      "text/plain": [
       "1.1696254046379687e-8"
      ]
     },
     "execution_count": 9,
     "metadata": {},
     "output_type": "execute_result"
    }
   ],
   "source": [
    "relative_error(approx, exact)"
   ]
  },
  {
   "cell_type": "markdown",
   "id": "aa60621b",
   "metadata": {},
   "source": [
    "Pretty good — we are matching to **about eight significant digits**!\n",
    "\n",
    "Getting a good match for a random input and a random small displacement isn't a proof of correctness, but it is always a good thing to check.   This kind of randomized comparison will almost always **catch major bugs** where you have calculated the symbolic derivative incorrectly, like our $2AdA$ example:"
   ]
  },
  {
   "cell_type": "code",
   "execution_count": 10,
   "id": "c4ed374c",
   "metadata": {},
   "outputs": [
    {
     "data": {
      "text/plain": [
       "0.7704417097656828"
      ]
     },
     "execution_count": 10,
     "metadata": {},
     "output_type": "execute_result"
    }
   ],
   "source": [
    "relative_error(approx, 2A*dA)"
   ]
  },
  {
   "cell_type": "markdown",
   "id": "a234dc8e",
   "metadata": {},
   "source": [
    "Here, for our buggy derivative, the relative error was **close to 100%**.  We would notice immediately that something is wrong."
   ]
  },
  {
   "cell_type": "markdown",
   "id": "117f334b",
   "metadata": {},
   "source": [
    "### aside: norm of a matrix?\n",
    "\n",
    "Wait, what do we mean by the norm $\\Vert A \\Vert$ of a matrix $A$?\n",
    "\n",
    "The ordinary Euclidean (\"L2\") norm of a column-vector $x \\in \\mathbb{R}^n$ is $\\Vert x \\Vert = \\sqrt{x^T x} = \\sqrt{\\sum_i x_i^2}$.\n",
    "\n",
    "For a matrix, the natural analogue is the **sqrt of the sum of the squares of the entries**.  This is called the [Frobenius norm](https://mathworld.wolfram.com/FrobeniusNorm.html), and is what `norm(A)` does in Julia by default."
   ]
  },
  {
   "cell_type": "code",
   "execution_count": 11,
   "id": "a34d0cb4",
   "metadata": {},
   "outputs": [
    {
     "data": {
      "text/latex": [
       "$$ \\begin{equation}\n",
       "\\left[\n",
       "\\begin{array}{ccc}\n",
       "m_{1}ˏ_1 & m_{1}ˏ_2 & m_{1}ˏ_3 \\\\\n",
       "m_{2}ˏ_1 & m_{2}ˏ_2 & m_{2}ˏ_3 \\\\\n",
       "\\end{array}\n",
       "\\right]\n",
       "\\end{equation}\n",
       " $$"
      ],
      "text/plain": [
       "2×3 Matrix{Num}:\n",
       " m[1, 1]  m[1, 2]  m[1, 3]\n",
       " m[2, 1]  m[2, 2]  m[2, 3]"
      ]
     },
     "execution_count": 11,
     "metadata": {},
     "output_type": "execute_result"
    }
   ],
   "source": [
    "using Symbolics\n",
    "\n",
    "@variables m[1:2, 1:3]\n",
    "M = collect(m)"
   ]
  },
  {
   "cell_type": "code",
   "execution_count": 12,
   "id": "f8846473",
   "metadata": {},
   "outputs": [
    {
     "data": {
      "text/latex": [
       "$$ \\begin{equation}\n",
       "\\sqrt{\\left|m_{1}ˏ_1\\right|^{2} + \\left|m_{1}ˏ_2\\right|^{2} + \\left|m_{1}ˏ_3\\right|^{2} + \\left|m_{2}ˏ_1\\right|^{2} + \\left|m_{2}ˏ_2\\right|^{2} + \\left|m_{2}ˏ_3\\right|^{2}}\n",
       "\\end{equation}\n",
       " $$"
      ],
      "text/plain": [
       "sqrt(abs2(m[1, 1]) + abs2(m[1, 2]) + abs2(m[1, 3]) + abs2(m[2, 1]) + abs2(m[2, 2]) + abs2(m[2, 3]))"
      ]
     },
     "execution_count": 12,
     "metadata": {},
     "output_type": "execute_result"
    }
   ],
   "source": [
    "norm(M)"
   ]
  },
  {
   "cell_type": "markdown",
   "id": "a8981b83",
   "metadata": {},
   "source": [
    "But we can write this in linear algebra notation!\n",
    "\n",
    "Recall that the (Euclidean) \"inner product\" of two matrices is $B \\cdot A = \\text{tr}(B^T A)$.   Then we can define the Frobenius norm of a matrix as the sqrt of the dot product with itself!\n",
    "\n",
    "$$\n",
    "\\Vert A \\Vert_F = \\sqrt{\\text{trace}(A^T A)}\n",
    "$$"
   ]
  },
  {
   "cell_type": "code",
   "execution_count": 13,
   "id": "625bb0ed",
   "metadata": {},
   "outputs": [
    {
     "data": {
      "text/plain": [
       "3.6589278662383666"
      ]
     },
     "execution_count": 13,
     "metadata": {},
     "output_type": "execute_result"
    }
   ],
   "source": [
    "norm(A)"
   ]
  },
  {
   "cell_type": "code",
   "execution_count": 14,
   "id": "b1dba485",
   "metadata": {},
   "outputs": [
    {
     "data": {
      "text/plain": [
       "3.658927866238367"
      ]
     },
     "execution_count": 14,
     "metadata": {},
     "output_type": "execute_result"
    }
   ],
   "source": [
    "sqrt(tr(A'A))"
   ]
  },
  {
   "cell_type": "code",
   "execution_count": 15,
   "id": "e61e275b",
   "metadata": {},
   "outputs": [
    {
     "data": {
      "text/plain": [
       "3.658927866238367"
      ]
     },
     "execution_count": 15,
     "metadata": {},
     "output_type": "execute_result"
    }
   ],
   "source": [
    "sqrt(sum(abs2, A))"
   ]
  },
  {
   "cell_type": "code",
   "execution_count": 16,
   "id": "e2440768",
   "metadata": {},
   "outputs": [
    {
     "data": {
      "text/plain": [
       "3.6589278662383666"
      ]
     },
     "execution_count": 16,
     "metadata": {},
     "output_type": "execute_result"
    }
   ],
   "source": [
    "sqrt(sum(A[i,j]^2 for i = 1:4, j = 1:4))"
   ]
  },
  {
   "cell_type": "markdown",
   "id": "1ada58d4",
   "metadata": {},
   "source": [
    "(There are also other ways to define a norm of matrix, most famously by \"induced norms\", but we will stick with the Frobenius norm here.)"
   ]
  },
  {
   "cell_type": "markdown",
   "id": "2f6347b0",
   "metadata": {},
   "source": [
    "# Accuracy of finite differences\n",
    "\n",
    "How accurate is our finite-difference approximation above?  How should we choose the size of δx?"
   ]
  },
  {
   "cell_type": "markdown",
   "id": "dd265557",
   "metadata": {},
   "source": [
    "Let's try our example $f(A) = A^2$ above, and plot the relative error as a function of $\\Vert \\delta A \\Vert$ as we scale $\\delta A$ by a factor $s$, making it larger or smaller."
   ]
  },
  {
   "cell_type": "code",
   "execution_count": 17,
   "id": "675c58b9",
   "metadata": {},
   "outputs": [],
   "source": [
    "using Plots # load a plotting package; there are several to choose from in Julia; this is a popular one\n",
    "using LaTeXStrings # makes it easy to put LaTeX equations in L\"...\" strings"
   ]
  },
  {
   "cell_type": "code",
   "execution_count": 18,
   "id": "0dc9de16",
   "metadata": {},
   "outputs": [
    {
     "data": {
      "image/png": "[encoded data removed]"
     },
     "execution_count": 18,
     "metadata": {},
     "output_type": "execute_result"
    }
   ],
   "source": [
    "s = 10 .^ range(-8,8,50) # 50 points from 10⁻⁸ to 10⁸\n",
    "errors = [relative_error(f(A+s*dA)-f(A), exact*s) for s in s]\n",
    "scatter(s * norm(dA), errors, xaxis=:log, yaxis=:log, markershape=:circle,markercolor=:blue,\n",
    "     title = L\"forward-difference accuracy for $f(A)=A^2$\", xlabel=L\"\\Vert \\delta A\\Vert\", ylabel=\"relative error\",\n",
    "     label = \"error\", fmt=:png)\n",
    "plot!(s, s, linecolor=:blue, label=L\"linear $\\Vert \\delta A\\Vert$ reference\")"
   ]
  },
  {
   "cell_type": "markdown",
   "id": "77479cce",
   "metadata": {},
   "source": [
    "We observe two main features:\n",
    "\n",
    "* The relative error decreases *linearly* with $\\Vert \\delta A \\Vert$.  This is called **first-order accuracy**.  Why?\n",
    "* When δA gets too small, the error *increases*.  Why?"
   ]
  },
  {
   "cell_type": "markdown",
   "id": "860ad8bb",
   "metadata": {},
   "source": [
    "## Order of accuracy\n",
    "\n",
    "If the relative error scales with $\\Vert \\delta A \\Vert^n$, we call the approximation **n-th order accurate**.  For forward differences, here, the order is **n=1**.  Why?\n",
    "\n",
    "For any $f(x)$ with a nonzero second derivative (think of the Taylor series), we have\n",
    "$$\n",
    "    f(x + \\delta x) = f(x) + f'(x) \\delta x + (\\text{terms proportional to }\\Vert \\delta x \\Vert^2) + \\underbrace{o(\\Vert \\delta x \\Vert^2)}_\\text{i.e. higher-order terms}\n",
    "$$"
   ]
  },
  {
   "cell_type": "markdown",
   "id": "1675f2b3",
   "metadata": {},
   "source": [
    "That is, the terms we *dropped* in our forward-difference approximations are proportional to $\\Vert \\delta x\\Vert^2$.  But that means that the **relative error is linear**:\n",
    "$$\n",
    "\\begin{align}\n",
    "  \\text{relative error} &= \\frac{\\Vert f(x+\\delta x) - f(x) - f'(x) \\delta x \\Vert}{\\Vert f'(x) \\delta x \\Vert} \\\\\n",
    "   &= \\frac{(\\text{terms proportional to }\\Vert \\delta x \\Vert^2) + o(\\Vert \\delta x \\Vert^2)}{\\text{proportional to }\\Vert \\delta x \\Vert} = (\\text{terms proportional to }\\Vert \\delta x \\Vert) + o(\\Vert \\delta x \\Vert)\n",
    "\\end{align}\n",
    "$$"
   ]
  },
  {
   "cell_type": "markdown",
   "id": "466a440e",
   "metadata": {},
   "source": [
    "This source of error in a finite-difference approximation, due to **inherent** error in the formula for **non-infinitesimal** $\\delta x$, is called **truncation error**."
   ]
  },
  {
   "cell_type": "markdown",
   "id": "dc1ef94d",
   "metadata": {},
   "source": [
    "## Roundoff error\n",
    "\n",
    "The reason why the error *increased* for very small $\\delta A$ was due to **roundoff errors**.  The computer only stores a **finite number of significant digits** (about 15 decimal digits) for each real number and rounds off the rest on each operation — this is called [floating-point arithmetic](https://en.wikipedia.org/wiki/Floating-point_arithmetic).\n",
    "\n",
    "If δx is too small, then the difference $f(x+\\delta x) - f(x)$ gets rounded off to zero (some or all of the *significant digits cancel*).  This is called [catastrophic cancellation](https://en.wikipedia.org/wiki/Catastrophic_cancellation).\n",
    "\n",
    "Let's compute the derivative of $\\sin(x)$ at $x=1$ with finite differences.   For a scalar $f(x)$, we have $f(x+\\delta x) - f(x) \\approx f'(x) \\delta x$, or equivalently:\n",
    "\n",
    "$$\n",
    "f'(x) = \\frac{f(x+\\delta x) - f(x)}{\\delta x} + \\underbrace{O(\\delta x)}_{\\text{terms proportional to }|\\delta x|\\text{ or smaller}}\n",
    "$$\n",
    "\n",
    "(This is the usual way you see a forward difference approximation written, but it only works when $\\delta x$ is a scalar.)"
   ]
  },
  {
   "cell_type": "code",
   "execution_count": 19,
   "id": "60dd9d6d",
   "metadata": {},
   "outputs": [
    {
     "data": {
      "text/plain": [
       "0.5402980985058647"
      ]
     },
     "execution_count": 19,
     "metadata": {},
     "output_type": "execute_result"
    }
   ],
   "source": [
    "dx = 1e-5\n",
    "(sin(1 + dx) - sin(1))/dx"
   ]
  },
  {
   "cell_type": "code",
   "execution_count": 20,
   "id": "2d2587ad",
   "metadata": {},
   "outputs": [
    {
     "data": {
      "text/plain": [
       "0.5403023058681398"
      ]
     },
     "execution_count": 20,
     "metadata": {},
     "output_type": "execute_result"
    }
   ],
   "source": [
    "cos(1) # correct answer"
   ]
  },
  {
   "cell_type": "code",
   "execution_count": 21,
   "id": "4fc600b4",
   "metadata": {},
   "outputs": [
    {
     "data": {
      "text/plain": [
       "7.787052228587771e-6"
      ]
     },
     "execution_count": 21,
     "metadata": {},
     "output_type": "execute_result"
    }
   ],
   "source": [
    "relative_error((sin(1 + dx) - sin(1))/dx, cos(1))"
   ]
  },
  {
   "cell_type": "markdown",
   "id": "7f9e44dc",
   "metadata": {},
   "source": [
    "So far, so good.  For $\\delta x = 10^{-5}$, we got about 5–6 significant digits correct.  Now let's make $\\delta x$ much smaller, $\\delta x = 10^{-100}$:"
   ]
  },
  {
   "cell_type": "code",
   "execution_count": 22,
   "id": "504d0d5f",
   "metadata": {},
   "outputs": [
    {
     "data": {
      "text/plain": [
       "0.0"
      ]
     },
     "execution_count": 22,
     "metadata": {},
     "output_type": "execute_result"
    }
   ],
   "source": [
    "dx = 1e-100\n",
    "(sin(1 + dx) - sin(1))/dx"
   ]
  },
  {
   "cell_type": "markdown",
   "id": "35440ed2",
   "metadata": {},
   "source": [
    "What happened?   The computer can represent small numbers just fine, because floating-point corresponds to \"scientific notation\":"
   ]
  },
  {
   "cell_type": "code",
   "execution_count": 23,
   "id": "173b2d27",
   "metadata": {},
   "outputs": [
    {
     "data": {
      "text/plain": [
       "1.0e-100"
      ]
     },
     "execution_count": 23,
     "metadata": {},
     "output_type": "execute_result"
    }
   ],
   "source": [
    "1e-100"
   ]
  },
  {
   "cell_type": "markdown",
   "id": "3a7d8a53",
   "metadata": {},
   "source": [
    "But look at this:"
   ]
  },
  {
   "cell_type": "code",
   "execution_count": 24,
   "id": "c8093692",
   "metadata": {},
   "outputs": [
    {
     "data": {
      "text/plain": [
       "1.0"
      ]
     },
     "execution_count": 24,
     "metadata": {},
     "output_type": "execute_result"
    }
   ],
   "source": [
    "1 + 1e-100"
   ]
  },
  {
   "cell_type": "markdown",
   "id": "1a5fdedb",
   "metadata": {},
   "source": [
    "The correct answer would be\n",
    "$$\n",
    "1 + 10^{-100} = 1.\\underbrace{000000\\cdots000000}_{\\text{99 zeros}}1\n",
    "$$\n",
    "but the computer only stores about 15 decimal digits (by default … you can ask for more, at the expense of speed), so it rounds this to $1.0$.\n",
    "\n",
    "Hence, our finite difference gave zero.\n",
    "\n",
    "Even if we do something less extreme, we have problems.   This looks okay:"
   ]
  },
  {
   "cell_type": "code",
   "execution_count": 25,
   "id": "bdb27010",
   "metadata": {},
   "outputs": [
    {
     "data": {
      "text/plain": [
       "1.0000000000001"
      ]
     },
     "execution_count": 25,
     "metadata": {},
     "output_type": "execute_result"
    }
   ],
   "source": [
    "dx = 1e-13\n",
    "1 + dx"
   ]
  },
  {
   "cell_type": "markdown",
   "id": "d2510c60",
   "metadata": {},
   "source": [
    "because the computer has enough digits, right?  But compare:"
   ]
  },
  {
   "cell_type": "code",
   "execution_count": 26,
   "id": "ee8e581d",
   "metadata": {},
   "outputs": [
    {
     "data": {
      "text/plain": [
       "0.8414709848079505"
      ]
     },
     "execution_count": 26,
     "metadata": {},
     "output_type": "execute_result"
    }
   ],
   "source": [
    "sin(1 + dx)"
   ]
  },
  {
   "cell_type": "code",
   "execution_count": 27,
   "id": "173807c6",
   "metadata": {},
   "outputs": [
    {
     "data": {
      "text/plain": [
       "0.8414709848078965"
      ]
     },
     "execution_count": 27,
     "metadata": {},
     "output_type": "execute_result"
    }
   ],
   "source": [
    "sin(1)"
   ]
  },
  {
   "cell_type": "markdown",
   "id": "9852d20f",
   "metadata": {},
   "source": [
    "They only differ in the **last 4 significant digits stored**.  So when you subtract them, you only have **4 digits** left:"
   ]
  },
  {
   "cell_type": "code",
   "execution_count": 28,
   "id": "6bbe34e6",
   "metadata": {},
   "outputs": [
    {
     "data": {
      "text/plain": [
       "0.001358343083756518"
      ]
     },
     "execution_count": 28,
     "metadata": {},
     "output_type": "execute_result"
    }
   ],
   "source": [
    "relative_error((sin(1 + dx) - sin(1))/dx, cos(1))"
   ]
  },
  {
   "cell_type": "markdown",
   "id": "4a4220af",
   "metadata": {},
   "source": [
    "and the error for $\\delta x = 10^{-13}$ is now $10^{-3}$!!"
   ]
  },
  {
   "cell_type": "markdown",
   "id": "d5487bb0",
   "metadata": {},
   "source": [
    "### Machine precision and a rule of thumb for finite differences\n",
    "\n",
    "The number of significant digits stored by the computer is expressed by the [machine epsilon](https://en.wikipedia.org/wiki/Machine_epsilon) $\\epsilon$.  Essentially, for a number $x$, the number $\\epsilon |x|$ is the size of the *last significant digit* of $x$, so that the *next* floating-point nubmer is $\\approx x (1+\\epsilon)$. \n",
    "\n",
    "$\\epsilon$ is returned by the [`eps()` function in Julia](https://docs.julialang.org/en/v1/base/base/#Base.eps-Tuple{Type{%3C:AbstractFloat}})."
   ]
  },
  {
   "cell_type": "code",
   "execution_count": 29,
   "id": "e5e375b3",
   "metadata": {},
   "outputs": [
    {
     "data": {
      "text/plain": [
       "2.220446049250313e-16"
      ]
     },
     "execution_count": 29,
     "metadata": {},
     "output_type": "execute_result"
    }
   ],
   "source": [
    "ϵ = eps()"
   ]
  },
  {
   "cell_type": "markdown",
   "id": "11e0ea89",
   "metadata": {},
   "source": [
    "This tells us that the computer stores about 15–16 decimal digits (in the default [\"double precision\"](https://en.wikipedia.org/wiki/Double-precision_floating-point_format)).  It's not an exact number of *decimal* digits because it's actually 52 **binary digits** $1.\\underbrace{ddd\\cdots ddd}_{52} \\times 2^\\mathrm{exponent}$:"
   ]
  },
  {
   "cell_type": "code",
   "execution_count": 30,
   "id": "2b917fb8",
   "metadata": {},
   "outputs": [
    {
     "data": {
      "text/plain": [
       "2.220446049250313e-16"
      ]
     },
     "execution_count": 30,
     "metadata": {},
     "output_type": "execute_result"
    }
   ],
   "source": [
    "2^-52"
   ]
  },
  {
   "cell_type": "markdown",
   "id": "625d10d6",
   "metadata": {},
   "source": [
    "A **very crude** rule of thumb for finite differences is to choose $\\delta x$ to correspond to about **half the significant digits** of $x$, i.e.\n",
    "$$\n",
    "\\Vert \\delta x \\Vert \\approx \\sqrt{\\varepsilon} \\Vert x \\Vert\n",
    "$$\n",
    "That is, if $x$ is of order $\\sim 1$, then $\\delta x$ should be of order $\\sqrt{\\epsilon} \\approx 10^{-8}$:"
   ]
  },
  {
   "cell_type": "code",
   "execution_count": 31,
   "id": "31d46e84",
   "metadata": {},
   "outputs": [
    {
     "data": {
      "text/plain": [
       "1.4901161193847656e-8"
      ]
     },
     "execution_count": 31,
     "metadata": {},
     "output_type": "execute_result"
    }
   ],
   "source": [
    "√ϵ"
   ]
  },
  {
   "cell_type": "markdown",
   "id": "f1e8542b",
   "metadata": {},
   "source": [
    "Indeed we saw above with $f(A) = A^2$ that this was about where we saw a minimum error from the finite difference — it \"balanced\" the truncation and roundoff errors.  We can see something similar for the derivative of $\\sin x$:"
   ]
  },
  {
   "cell_type": "code",
   "execution_count": 32,
   "id": "5a028dc3",
   "metadata": {},
   "outputs": [
    {
     "data": {
      "image/png": "[encoded data removed]"
     },
     "execution_count": 32,
     "metadata": {},
     "output_type": "execute_result"
    }
   ],
   "source": [
    "s = 10 .^ range(-16,0,50)\n",
    "errors = [relative_error((sin(1+s)-sin(1))/s, cos(1)) for s in s]\n",
    "scatter(s, errors, xaxis=:log, yaxis=:log, markershape=:circle,markercolor=:blue,\n",
    "     title = L\"forward-difference accuracy for $\\sin(x)$ at $x=1$\", xlabel=L\"\\Vert \\delta x\\Vert\", ylabel=\"relative error\",\n",
    "     label = \"error\", fmt=:png)\n",
    "plot!(s, s, linecolor=:blue, label=L\"linear $\\Vert \\delta x\\Vert$ reference\")"
   ]
  },
  {
   "cell_type": "markdown",
   "id": "d0b9b6ba",
   "metadata": {},
   "source": [
    "Yup, the minimum is around $\\approx 10^{-8}$."
   ]
  },
  {
   "cell_type": "markdown",
   "id": "0ad6e6b8",
   "metadata": {},
   "source": [
    "## Higher-order finite-difference approximations\n",
    "\n",
    "Of course, there are other finite-difference formulas.  For example, the most famous is the **centered-difference** formula:\n",
    "\n",
    "$$\n",
    "f'(x) \\delta x \\approx \\frac{f(x+\\delta x) - f(x - \\delta x)}{2} + O(\\Vert \\delta \\Vert^3)\n",
    "$$\n",
    "\n",
    "which for scalar $\\delta x$ can be written in the more familiar form\n",
    "\n",
    "\n",
    "$$\n",
    "f'(x) \\approx \\frac{f(x+\\delta x) - f(x - \\delta x)}{2\\delta x} + O(\\Vert \\delta \\Vert^2)\n",
    "$$\n",
    "\n",
    "This formula is **second-order accurate**: the error in the derivative is proportional to $\\Vert \\delta \\Vert^2$ (assuming a thrice-differentiable function).   You can show this by plugging the Taylor series for $f(x\\pm \\delta x)$ into the difference formula.\n",
    "\n",
    "We can try it for $\\sin(x)$ as above:"
   ]
  },
  {
   "cell_type": "code",
   "execution_count": 33,
   "id": "72add7bd",
   "metadata": {},
   "outputs": [
    {
     "data": {
      "image/png": "[encoded data removed]"
     },
     "execution_count": 33,
     "metadata": {},
     "output_type": "execute_result"
    }
   ],
   "source": [
    "s = 10 .^ range(-16,0,50)\n",
    "errors = [relative_error((sin(1+s)-sin(1))/s, cos(1)) for s in s]\n",
    "scatter(s, errors, xaxis=:log, yaxis=:log, markershape=:circle, markercolor=:blue,\n",
    "     title = L\"finite-difference accuracies for $\\sin(x)$ at $x=1$\", xlabel=L\"\\Vert \\delta x\\Vert\", ylabel=\"relative error\",\n",
    "     legend=:bottomright,\n",
    "     label = \"forward-difference error\", fmt=:png)\n",
    "\n",
    "errors2 = [relative_error((sin(1+s)-sin(1-s))/2s, cos(1)) for s in s]\n",
    "scatter!(s, errors2, xaxis=:log, yaxis=:log, markershape=:square, markercolor=:red,\n",
    "     label = \"center-difference error\")\n",
    "plot!(s, s, linecolor=:blue, label=L\"linear $\\Vert \\delta x\\Vert$ reference\")\n",
    "plot!(s, s.^2, linecolor=:red, label=L\"quadratic $\\Vert \\delta x\\Vert^2$ reference\")"
   ]
  },
  {
   "cell_type": "markdown",
   "id": "e0cae23c",
   "metadata": {},
   "source": [
    "Indeed, the error goes down faster than before, so it turns out that our crude rule of thumb from before is not quite so good — the minimum error occurs around $10^{-5}$, not $10^{-8}$."
   ]
  },
  {
   "cell_type": "markdown",
   "id": "91f1f090",
   "metadata": {},
   "source": [
    "It's also instructive (though initially mystifying) to apply center-difference approximations to $f(X)=A^2$:"
   ]
  },
  {
   "cell_type": "code",
   "execution_count": 34,
   "id": "d4bbabff",
   "metadata": {},
   "outputs": [
    {
     "data": {
      "image/png": "[encoded data removed]"
     },
     "execution_count": 34,
     "metadata": {},
     "output_type": "execute_result"
    }
   ],
   "source": [
    "s = 10 .^ range(-8,8,50)\n",
    "errors = [relative_error(f(A+s*dA)-f(A-s*dA), exact*2s) for s in s]\n",
    "plot(s * norm(dA), errors, xaxis=:log, yaxis=:log, markershape=:square, markercolor=:red,\n",
    "     title = L\"center-difference accuracy for $f(A)=A^2$\", xlabel=L\"\\Vert \\delta A\\Vert\", ylabel=\"relative error\",\n",
    "     label = \"error\", fmt=:png)\n",
    "plot!(s, s.^2, linecolor=:red, label=L\"quadratic $\\Vert \\delta A\\Vert$ reference\")"
   ]
  },
  {
   "cell_type": "markdown",
   "id": "988a65f4",
   "metadata": {},
   "source": [
    "Here, the error gets **worse monotonically** as you decrease $\\delta A$!?!\n",
    "\n",
    "The reason for this is that a center-difference formula is *exact* for quadratic functions, since\n",
    "$$\n",
    "(A+\\delta A)^2 - (A-\\delta A)^2 = 2[A \\delta A + \\delta A\\, A]\n",
    "$$\n",
    "*exactly*.   So, the *only* error is the roundoff error, which increases with smaller $\\delta A$."
   ]
  },
  {
   "cell_type": "markdown",
   "id": "fc211ad5",
   "metadata": {},
   "source": [
    "### Even higher order:\n",
    "\n",
    "\n",
    "One can go even further than this:\n",
    "\n",
    "* You can derive higher-order finite-difference \"stencil\" formulas whose truncation error goes down even faster, at the expense of more function evaluations\n",
    "\n",
    "* You can evaluate $f(x+\\delta x)$ for smaller and smaller $\\delta x$, fit to polynomials of higher and higher degree in $\\delta x$, and *extrapolate* to $\\delta x \\to 0$.  You can even do this *adaptively* in order to determine when to stop shrinking $\\delta x$ because roundoff errors are dominating.  A sophisticated version of this process is called [Richardson extrapolation](https://github.com/JuliaMath/Richardson.jl).\n",
    "\n",
    "The [Julia FiniteDifferences.jl package](https://github.com/JuliaDiff/FiniteDifferences.jl) provides a large number of these techniques (both higher-order formulas and Richardson extrapolation techniques)."
   ]
  },
  {
   "cell_type": "markdown",
   "id": "816983bb",
   "metadata": {},
   "source": [
    "## Finite differences in higher dimensions\n",
    "\n",
    "Higher-dimensional *inputs* $x$ pose a fundamental computational challenge for finite-difference techniques, because if you want to know what happens for **every possible direction δx** then we need **many finite differences** — one for **each dimension of δx**.\n",
    "\n",
    "For example, suppose $x \\in \\mathbb{R}^n$ ($n$-component column vector) and $f(x)$ is a scalar.  Then $f'(x) = (\\nabla f)^T$ has **n components** $\\partial f/\\partial x_k$, and if you want to know the *whole gradient* then you need **n finite-differences**.\n",
    "\n",
    "More generally, you need one finite difference for \"each column\" of the Jacobian.\n",
    "\n",
    "The net result is that **finite difference in higher dimensions are expensive**: you have to evaluate $f(x)$ around $\\sim n$ times in $n$ input dimensions.   This makes finite differences **impractical** for high-dimensional optimization (e.g. neural networks) where $n$ might be thousands or millions or (even billions).   \n",
    "\n",
    "On the other hand, if you are just using finite differences as a *check*, it is usually sufficient to compute $f'(x) \\delta x$ in a few **random directions**, i.e. for random small $\\delta x$."
   ]
  },
  {
   "cell_type": "markdown",
   "id": "02c548df",
   "metadata": {},
   "source": [
    "## Prefer analytical derivatives, with finite differences as a check\n",
    "\n",
    "The upshot of all this is that you should **use analytical derivatives if at all possible**.  However, derivative computation is tricky, so finite differences are still incredibly useful as a check.\n",
    "\n",
    "(Automatic differentiation is much less tricky and should generally give correct results.  But there are still many cases where AD fails or is inefficient, and has to be supplemented by hand-formulated derivatives for at least *part* of your calculation.)"
   ]
  }
 ],
 "metadata": {
  "@webio": {
   "lastCommId": null,
   "lastKernelId": null
  },
  "kernelspec": {
   "display_name": "Julia 1.8.3",
   "language": "julia",
   "name": "julia-1.8"
  },
  "language_info": {
   "file_extension": ".jl",
   "mimetype": "application/julia",
   "name": "julia",
   "version": "1.8.3"
  }
 },
 "nbformat": 4,
 "nbformat_minor": 5
}
