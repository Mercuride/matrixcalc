{
 "cells": [
  {
   "cell_type": "markdown",
   "id": "c5644e64-0665-44e6-bc25-3b720ab62593",
   "metadata": {},
   "source": [
    "# Two by Two Matrix Jacobians\n",
    "\n",
    "This notebook emphasizes the multiple views of Jacobians with  examples of 2x2 matrix functions.\n",
    "\n",
    "In particular we will see the\n",
    "* Symbolic \"vec\" format producing 4x4 matrices (generally n² by n² or mn by mn)\n",
    "* Numerical formats\n",
    "* The important Linear Transformation view\n",
    "* Kronecker notation\n",
    "* An example using ForwardDiff automatic differentiation\n",
    "\n",
    "We also emphasize that  matrix factorizations are also matrix functions, just as much as the square and the cube."
   ]
  },
  {
   "cell_type": "code",
   "execution_count": 1,
   "id": "f84de392-1368-4616-9cce-54827aa92478",
   "metadata": {},
   "outputs": [],
   "source": [
    "using Symbolics, LinearAlgebra, ForwardDiff"
   ]
  },
  {
   "cell_type": "markdown",
   "id": "a161537c-7783-47c0-9b50-4f0622529ca5",
   "metadata": {},
   "source": [
    "## Symbolic Matrices"
   ]
  },
  {
   "cell_type": "code",
   "execution_count": 2,
   "id": "aae0a004-7201-4ec8-bb0c-6584a2bd469d",
   "metadata": {},
   "outputs": [
    {
     "data": {
      "text/latex": [
       "$$ \\begin{equation}\n",
       "\\left[\n",
       "\\begin{array}{cc}\n",
       "p & r \\\\\n",
       "q & s \\\\\n",
       "\\end{array}\n",
       "\\right]\n",
       "\\end{equation}\n",
       " $$"
      ],
      "text/plain": [
       "2×2 Matrix{Num}:\n",
       " p  r\n",
       " q  s"
      ]
     },
     "execution_count": 2,
     "metadata": {},
     "output_type": "execute_result"
    }
   ],
   "source": [
    "@variables p,q,r,s,θ\n",
    "X = [p r;q s]"
   ]
  },
  {
   "cell_type": "markdown",
   "id": "f3fdef2c-3e93-472d-9188-bf1c5dbe3ed4",
   "metadata": {},
   "source": [
    "### vec\n",
    "The `vec` command in Julia and in standard mathematics flattens a matrix column by column."
   ]
  },
  {
   "cell_type": "code",
   "execution_count": 3,
   "id": "6c4d3f0f-35fb-4923-a533-e7e53f9c5b10",
   "metadata": {},
   "outputs": [
    {
     "data": {
      "text/latex": [
       "$$ \\begin{equation}\n",
       "\\left[\n",
       "\\begin{array}{c}\n",
       "p \\\\\n",
       "q \\\\\n",
       "r \\\\\n",
       "s \\\\\n",
       "\\end{array}\n",
       "\\right]\n",
       "\\end{equation}\n",
       " $$"
      ],
      "text/plain": [
       "4-element Vector{Num}:\n",
       " p\n",
       " q\n",
       " r\n",
       " s"
      ]
     },
     "execution_count": 3,
     "metadata": {},
     "output_type": "execute_result"
    }
   ],
   "source": [
    "vec(X)"
   ]
  },
  {
   "cell_type": "markdown",
   "id": "4d6df42f-c263-46eb-bb27-2f8889cf160a",
   "metadata": {},
   "source": [
    "## The matrix square function $f(X) = X^2$:"
   ]
  },
  {
   "cell_type": "code",
   "execution_count": 4,
   "id": "83f14828-b32a-4d5e-9abc-9fce84f136cc",
   "metadata": {},
   "outputs": [
    {
     "data": {
      "text/latex": [
       "$$ \\begin{equation}\n",
       "\\left[\n",
       "\\begin{array}{cc}\n",
       "p^{2} + q r & p r + r s \\\\\n",
       "p q + q s & q r + s^{2} \\\\\n",
       "\\end{array}\n",
       "\\right]\n",
       "\\end{equation}\n",
       " $$"
      ],
      "text/plain": [
       "2×2 Matrix{Num}:\n",
       " p^2 + q*r  p*r + r*s\n",
       " p*q + q*s  q*r + s^2"
      ]
     },
     "execution_count": 4,
     "metadata": {},
     "output_type": "execute_result"
    }
   ],
   "source": [
    "X^2"
   ]
  },
  {
   "cell_type": "code",
   "execution_count": 5,
   "id": "638cb3b8-22c1-409b-aae1-4187dfd07902",
   "metadata": {},
   "outputs": [
    {
     "data": {
      "text/latex": [
       "$$ \\begin{equation}\n",
       "\\left[\n",
       "\\begin{array}{c}\n",
       "p^{2} + q r \\\\\n",
       "p q + q s \\\\\n",
       "p r + r s \\\\\n",
       "q r + s^{2} \\\\\n",
       "\\end{array}\n",
       "\\right]\n",
       "\\end{equation}\n",
       " $$"
      ],
      "text/plain": [
       "4-element Vector{Num}:\n",
       " p^2 + q*r\n",
       " p*q + q*s\n",
       " p*r + r*s\n",
       " q*r + s^2"
      ]
     },
     "execution_count": 5,
     "metadata": {},
     "output_type": "execute_result"
    }
   ],
   "source": [
    "vec(X^2)"
   ]
  },
  {
   "cell_type": "markdown",
   "id": "2e259633-4b9e-421a-8efc-976daa69caa7",
   "metadata": {},
   "source": [
    "### Symbolic Jacobian\n",
    "\n",
    "The Jacobian of the (flattened) matrix function $X^2$ symbolically:"
   ]
  },
  {
   "cell_type": "code",
   "execution_count": 6,
   "id": "f134955a-6024-418e-9d41-175688a27c17",
   "metadata": {},
   "outputs": [
    {
     "data": {
      "text/latex": [
       "$$ \\begin{equation}\n",
       "\\left[\n",
       "\\begin{array}{cccc}\n",
       "2 p & r & q & 0 \\\\\n",
       "q & p + s & 0 & q \\\\\n",
       "r & 0 & p + s & r \\\\\n",
       "0 & r & q & 2 s \\\\\n",
       "\\end{array}\n",
       "\\right]\n",
       "\\end{equation}\n",
       " $$"
      ],
      "text/plain": [
       "4×4 Matrix{Num}:\n",
       " 2p      r      q   0\n",
       "  q  p + s      0   q\n",
       "  r      0  p + s   r\n",
       "  0      r      q  2s"
      ]
     },
     "execution_count": 6,
     "metadata": {},
     "output_type": "execute_result"
    }
   ],
   "source": [
    "jac(Y,X) =  Symbolics.jacobian(vec(Y),vec(X))\n",
    "\n",
    "J = jac(X^2, X)"
   ]
  },
  {
   "cell_type": "code",
   "execution_count": 7,
   "id": "6931d2b5-f370-4b1a-9c29-b9993869d173",
   "metadata": {},
   "outputs": [],
   "source": [
    "### Numerical Jacobian"
   ]
  },
  {
   "cell_type": "code",
   "execution_count": 8,
   "id": "cc348e61-4650-4a9c-b1f8-7ab0c0f0d571",
   "metadata": {},
   "outputs": [
    {
     "data": {
      "text/plain": [
       "4×4 Matrix{Int64}:\n",
       " 2  2  3  0\n",
       " 3  5  0  3\n",
       " 2  0  5  2\n",
       " 0  2  3  8"
      ]
     },
     "execution_count": 8,
     "metadata": {},
     "output_type": "execute_result"
    }
   ],
   "source": [
    "M = [1 2;3 4]\n",
    "E = [.0003 .0003;.0002 .0001]\n",
    "substitute(J,Dict(p=>1,q=>3,r=>2,s=>4))"
   ]
  },
  {
   "cell_type": "code",
   "execution_count": 9,
   "id": "5fe84140-b829-4ae4-ad53-b7f54cfba087",
   "metadata": {},
   "outputs": [
    {
     "data": {
      "text/plain": [
       "4-element Vector{Float64}:\n",
       " 0.0019\n",
       " 0.0022\n",
       " 0.0023\n",
       " 0.0021"
      ]
     },
     "execution_count": 9,
     "metadata": {},
     "output_type": "execute_result"
    }
   ],
   "source": [
    "substitute(J,Dict(p=>1,q=>3,r=>2,s=>4)) * vec(E)"
   ]
  },
  {
   "cell_type": "code",
   "execution_count": 10,
   "id": "eddfe55d-4734-44f7-bc6f-d221895ab8e8",
   "metadata": {},
   "outputs": [
    {
     "data": {
      "text/plain": [
       "4-element Vector{Float64}:\n",
       " 0.0019\n",
       " 0.0022\n",
       " 0.0023\n",
       " 0.0021"
      ]
     },
     "execution_count": 10,
     "metadata": {},
     "output_type": "execute_result"
    }
   ],
   "source": [
    "substitute(J,Dict(p=>1,q=>3,r=>2,s=>4)) * vec(E)"
   ]
  },
  {
   "cell_type": "code",
   "execution_count": 11,
   "id": "546c7123-5152-4ad0-8698-fca18786634e",
   "metadata": {},
   "outputs": [
    {
     "data": {
      "text/plain": [
       "2×2 Matrix{Float64}:\n",
       " 0.00190015  0.00230012\n",
       " 0.00220008  0.00210007"
      ]
     },
     "execution_count": 11,
     "metadata": {},
     "output_type": "execute_result"
    }
   ],
   "source": [
    "(M+E)^2 - M^2"
   ]
  },
  {
   "cell_type": "markdown",
   "id": "29a86068-3d31-44c9-a6d5-cb7a2dc206c0",
   "metadata": {},
   "source": [
    "### Linear Transformation Jacobian \n",
    "$$\n",
    "df = f(X+dX) - f(X) = X dX + dX X = f'(X)[dX]\n",
    "$$\n",
    "That is, our Jacobian is the linear transformation $f'(X)$ defined by $E \\mapsto \\boxed{f'(X)[E] = X E + E X}$.\n",
    "\n",
    "Notice: there is no flattening; this is just matrix to matrix."
   ]
  },
  {
   "cell_type": "code",
   "execution_count": 12,
   "id": "05f43932-2ce0-4fe2-b1ca-560a2aa908a5",
   "metadata": {},
   "outputs": [
    {
     "data": {
      "text/plain": [
       "2×2 Matrix{Float64}:\n",
       " 0.0019  0.0023\n",
       " 0.0022  0.0021"
      ]
     },
     "execution_count": 12,
     "metadata": {},
     "output_type": "execute_result"
    }
   ],
   "source": [
    "linear_transformation(E) = M*E + E*M\n",
    "\n",
    "linear_transformation(E)"
   ]
  },
  {
   "cell_type": "markdown",
   "id": "1ba7f6a1-462b-4770-8208-0600ec1a3f41",
   "metadata": {},
   "source": [
    "## Kronecker product ⊗ notation\n",
    "Notation that kind of lets you think \"flattened\" or \"not flattened\" at the same time."
   ]
  },
  {
   "cell_type": "code",
   "execution_count": 13,
   "id": "3420fd7a-62d2-40aa-9424-1947a55625ff",
   "metadata": {},
   "outputs": [
    {
     "data": {
      "text/latex": [
       "$$ \\begin{equation}\n",
       "\\left[\n",
       "\\begin{array}{cc}\n",
       "p & r \\\\\n",
       "q & s \\\\\n",
       "\\end{array}\n",
       "\\right]\n",
       "\\end{equation}\n",
       " $$"
      ],
      "text/plain": [
       "2×2 Matrix{Num}:\n",
       " p  r\n",
       " q  s"
      ]
     },
     "metadata": {},
     "output_type": "display_data"
    },
    {
     "data": {
      "text/latex": [
       "$$ \\begin{equation}\n",
       "\\left[\n",
       "\\begin{array}{cc}\n",
       "a & c \\\\\n",
       "b & d \\\\\n",
       "\\end{array}\n",
       "\\right]\n",
       "\\end{equation}\n",
       " $$"
      ],
      "text/plain": [
       "2×2 Matrix{Num}:\n",
       " a  c\n",
       " b  d"
      ]
     },
     "metadata": {},
     "output_type": "display_data"
    }
   ],
   "source": [
    "@variables a,b,c,d\n",
    "display([p r;q s])\n",
    "display([a c;b d])"
   ]
  },
  {
   "cell_type": "markdown",
   "id": "46f63043-ad54-4c70-bdcd-e7043fc38651",
   "metadata": {},
   "source": [
    "Notice all possible products with the first matrix and the second:"
   ]
  },
  {
   "cell_type": "code",
   "execution_count": 14,
   "id": "477488ae-c173-49b0-ae6f-acd5f8adb2c3",
   "metadata": {},
   "outputs": [
    {
     "data": {
      "text/latex": [
       "$$ \\begin{equation}\n",
       "\\left[\n",
       "\\begin{array}{cc}\n",
       "a p & a q \\\\\n",
       "a r & a s \\\\\n",
       "b p & b q \\\\\n",
       "b r & b s \\\\\n",
       "\\end{array}\n",
       "\\right]\n",
       "\\end{equation}\n",
       " $$"
      ],
      "text/plain": [
       "4×2 Matrix{Num}:\n",
       " a*p  a*q\n",
       " a*r  a*s\n",
       " b*p  b*q\n",
       " b*r  b*s"
      ]
     },
     "execution_count": 14,
     "metadata": {},
     "output_type": "execute_result"
    }
   ],
   "source": [
    "kron([a;b],[p q;r s])"
   ]
  },
  {
   "cell_type": "code",
   "execution_count": 15,
   "id": "2eca9df7-55d9-4d46-9456-98e2510a956c",
   "metadata": {},
   "outputs": [
    {
     "data": {
      "text/latex": [
       "$$ \\begin{equation}\n",
       "\\left[\n",
       "\\begin{array}{cccc}\n",
       "a p & a q & c p & c q \\\\\n",
       "a r & a s & c r & c s \\\\\n",
       "b p & b q & d p & d q \\\\\n",
       "b r & b s & d r & d s \\\\\n",
       "\\end{array}\n",
       "\\right]\n",
       "\\end{equation}\n",
       " $$"
      ],
      "text/plain": [
       "4×4 Matrix{Num}:\n",
       " a*p  a*q  c*p  c*q\n",
       " a*r  a*s  c*r  c*s\n",
       " b*p  b*q  d*p  d*q\n",
       " b*r  b*s  d*r  d*s"
      ]
     },
     "execution_count": 15,
     "metadata": {},
     "output_type": "execute_result"
    }
   ],
   "source": [
    "kron([a c;b d],[p q;r s] )"
   ]
  },
  {
   "cell_type": "code",
   "execution_count": 16,
   "id": "47ad77fb-3481-45c8-b3c7-2704679c977b",
   "metadata": {},
   "outputs": [
    {
     "data": {
      "text/latex": [
       "$$ \\begin{equation}\n",
       "\\left[\n",
       "\\begin{array}{cccccc}\n",
       "a 🍕 & a 👽 & b 🍕 & b 👽 & c 🍕 & c 👽 \\\\\n",
       "a 🐼 & a 😸 & b 🐼 & b 😸 & c 🐼 & c 😸 \\\\\n",
       "d 🍕 & d 👽 & e 🍕 & e 👽 & f 🍕 & f 👽 \\\\\n",
       "d 🐼 & d 😸 & e 🐼 & e 😸 & f 🐼 & f 😸 \\\\\n",
       "\\end{array}\n",
       "\\right]\n",
       "\\end{equation}\n",
       " $$"
      ],
      "text/plain": [
       "4×6 Matrix{Num}:\n",
       " a*🍕  a*👽  b*🍕  b*👽  c*🍕  c*👽\n",
       " a*🐼  a*😸  b*🐼  b*😸  c*🐼  c*😸\n",
       " d*🍕  d*👽  e*🍕  e*👽  f*🍕  f*👽\n",
       " d*🐼  d*😸  e*🐼  e*😸  f*🐼  f*😸"
      ]
     },
     "execution_count": 16,
     "metadata": {},
     "output_type": "execute_result"
    }
   ],
   "source": [
    "@variables e f g h  🍕 👽 🐼 😸\n",
    "\n",
    "kron([a b c;d e f],[🍕 👽; 🐼 😸])"
   ]
  },
  {
   "cell_type": "markdown",
   "id": "06d961ad-7d58-4fdd-b2c2-0069780836e1",
   "metadata": {},
   "source": [
    "It turns out that we can express the Jacobian of the vectorized matrix-square function as\n",
    "$$\n",
    "I_2 \\otimes X + X^T \\otimes I_2\n",
    "$$"
   ]
  },
  {
   "cell_type": "code",
   "execution_count": 17,
   "id": "9702907a-ed95-43d0-9e4c-83e17bc834d2",
   "metadata": {},
   "outputs": [
    {
     "data": {
      "text/latex": [
       "$$ \\begin{equation}\n",
       "\\left[\n",
       "\\begin{array}{cccc}\n",
       "2 p & r & q & 0 \\\\\n",
       "q & p + s & 0 & q \\\\\n",
       "r & 0 & p + s & r \\\\\n",
       "0 & r & q & 2 s \\\\\n",
       "\\end{array}\n",
       "\\right]\n",
       "\\end{equation}\n",
       " $$"
      ],
      "text/plain": [
       "4×4 Matrix{Num}:\n",
       " 2p      r      q   0\n",
       "  q  p + s      0   q\n",
       "  r      0  p + s   r\n",
       "  0      r      q  2s"
      ]
     },
     "metadata": {},
     "output_type": "display_data"
    },
    {
     "data": {
      "text/latex": [
       "$$ \\begin{equation}\n",
       "\\left[\n",
       "\\begin{array}{cccc}\n",
       "2 p & r & q & 0 \\\\\n",
       "q & p + s & 0 & q \\\\\n",
       "r & 0 & p + s & r \\\\\n",
       "0 & r & q & 2 s \\\\\n",
       "\\end{array}\n",
       "\\right]\n",
       "\\end{equation}\n",
       " $$"
      ],
      "text/plain": [
       "4×4 Matrix{Num}:\n",
       " 2p      r      q   0\n",
       "  q  p + s      0   q\n",
       "  r      0  p + s   r\n",
       "  0      r      q  2s"
      ]
     },
     "execution_count": 17,
     "metadata": {},
     "output_type": "execute_result"
    }
   ],
   "source": [
    "I2 = [1 0; 0 1]\n",
    "display(kron(I2,X) + kron(X',I2))\n",
    "J"
   ]
  },
  {
   "cell_type": "code",
   "execution_count": 18,
   "id": "a5978e8a-fc2d-4c9b-9e95-772f6ee486b0",
   "metadata": {},
   "outputs": [
    {
     "data": {
      "text/latex": [
       "$$ \\begin{equation}\n",
       "\\left[\n",
       "\\begin{array}{cccc}\n",
       "🍕 & 0 & 👽 & 0 \\\\\n",
       "0 & 🍕 & 0 & 👽 \\\\\n",
       "🐼 & 0 & 😸 & 0 \\\\\n",
       "0 & 🐼 & 0 & 😸 \\\\\n",
       "\\end{array}\n",
       "\\right]\n",
       "\\end{equation}\n",
       " $$"
      ],
      "text/plain": [
       "4×4 Matrix{Num}:\n",
       " 🍕   0  👽   0\n",
       "  0  🍕   0  👽\n",
       " 🐼   0  😸   0\n",
       "  0  🐼   0  😸"
      ]
     },
     "execution_count": 18,
     "metadata": {},
     "output_type": "execute_result"
    }
   ],
   "source": [
    "kron([🍕 👽; 🐼 😸],I2)"
   ]
  },
  {
   "cell_type": "code",
   "execution_count": 19,
   "id": "49eaa39a-9f99-40f4-9c9d-a7ef50ca7301",
   "metadata": {},
   "outputs": [
    {
     "data": {
      "text/latex": [
       "$$ \\begin{equation}\n",
       "\\left[\n",
       "\\begin{array}{cccc}\n",
       "🍕 & 👽 & 0 & 0 \\\\\n",
       "🐼 & 😸 & 0 & 0 \\\\\n",
       "0 & 0 & 🍕 & 👽 \\\\\n",
       "0 & 0 & 🐼 & 😸 \\\\\n",
       "\\end{array}\n",
       "\\right]\n",
       "\\end{equation}\n",
       " $$"
      ],
      "text/plain": [
       "4×4 Matrix{Num}:\n",
       " 🍕  👽   0   0\n",
       " 🐼  😸   0   0\n",
       "  0   0  🍕  👽\n",
       "  0   0  🐼  😸"
      ]
     },
     "execution_count": 19,
     "metadata": {},
     "output_type": "execute_result"
    }
   ],
   "source": [
    "kron(I2,[🍕 👽; 🐼 😸])"
   ]
  },
  {
   "cell_type": "code",
   "execution_count": 20,
   "id": "61161193-8ddb-4868-b488-055f7a5b0a3f",
   "metadata": {},
   "outputs": [
    {
     "data": {
      "text/latex": [
       "$$ \\begin{equation}\n",
       "\\left[\n",
       "\\begin{array}{cccc}\n",
       "p & r & 0 & 0 \\\\\n",
       "q & s & 0 & 0 \\\\\n",
       "0 & 0 & p & r \\\\\n",
       "0 & 0 & q & s \\\\\n",
       "\\end{array}\n",
       "\\right]\n",
       "\\end{equation}\n",
       " $$"
      ],
      "text/plain": [
       "4×4 Matrix{Num}:\n",
       " p  r  0  0\n",
       " q  s  0  0\n",
       " 0  0  p  r\n",
       " 0  0  q  s"
      ]
     },
     "execution_count": 20,
     "metadata": {},
     "output_type": "execute_result"
    }
   ],
   "source": [
    "kron(I2,X)"
   ]
  },
  {
   "cell_type": "code",
   "execution_count": 21,
   "id": "9a0bc1c0-e812-4fe6-804f-e7bf03a0cba9",
   "metadata": {},
   "outputs": [
    {
     "data": {
      "text/latex": [
       "$$ \\begin{equation}\n",
       "\\left[\n",
       "\\begin{array}{cccc}\n",
       "p & 0 & q & 0 \\\\\n",
       "0 & p & 0 & q \\\\\n",
       "r & 0 & s & 0 \\\\\n",
       "0 & r & 0 & s \\\\\n",
       "\\end{array}\n",
       "\\right]\n",
       "\\end{equation}\n",
       " $$"
      ],
      "text/plain": [
       "4×4 Matrix{Num}:\n",
       " p  0  q  0\n",
       " 0  p  0  q\n",
       " r  0  s  0\n",
       " 0  r  0  s"
      ]
     },
     "execution_count": 21,
     "metadata": {},
     "output_type": "execute_result"
    }
   ],
   "source": [
    "kron(X',I2)"
   ]
  },
  {
   "cell_type": "markdown",
   "id": "3ea7823e-3e0f-4f0a-89c8-9b8fc125c7e4",
   "metadata": {},
   "source": [
    "### Key Kronecker identity\n",
    "\n",
    "$$(A \\times B) \\,  \\mathrm{vec}(C) =  \\mathrm{vec}(BCA^T)$$"
   ]
  },
  {
   "cell_type": "code",
   "execution_count": 22,
   "id": "da4b41cd-12f1-4ff4-a08c-c9442b6e03d0",
   "metadata": {},
   "outputs": [
    {
     "data": {
      "text/plain": [
       "true"
      ]
     },
     "execution_count": 22,
     "metadata": {},
     "output_type": "execute_result"
    }
   ],
   "source": [
    "A = rand(5,7)\n",
    "B = rand(4,3)\n",
    "C = rand(3,7)\n",
    "kron(A,B) * vec(C) ≈ vec(B*C*A')"
   ]
  },
  {
   "cell_type": "code",
   "execution_count": 23,
   "id": "9b6f3bd3-5b12-457d-a069-2cc237e4201d",
   "metadata": {},
   "outputs": [
    {
     "data": {
      "text/plain": [
       "25×25 Matrix{Float64}:\n",
       " 0.344355    0.401632   0.336621     …  0.467098     0.0831696   0.0246478\n",
       " 0.0545394   0.417074   0.0616338       0.0855235    0.631118    0.308202\n",
       " 0.0836655   0.0498243  0.167332        0.232192     0.54969     0.207034\n",
       " 0.143303    0.0619499  0.000187419     0.000260064  0.446035    0.405095\n",
       " 0.0129838   0.0525151  0.117099        0.162487     0.0269203   0.3691\n",
       " 0.320094    0.373336   0.312906     …  0.103006     0.0183409   0.00543545\n",
       " 0.050697    0.387691   0.0572917       0.01886      0.139177    0.067966\n",
       " 0.0777712   0.0463142  0.155544        0.0512039    0.12122     0.0456559\n",
       " 0.133207    0.0575855  0.000174215     5.73504e-5   0.0983616   0.0893332\n",
       " 0.0120691   0.0488153  0.108849        0.0358323    0.00593657  0.0813955\n",
       " 0.184895    0.215649   0.180743     …  0.415281     0.0739434   0.0219136\n",
       " 0.029284    0.223941   0.0330932       0.0760362    0.561106    0.274012\n",
       " 0.0449228   0.0267523  0.0898463       0.206434     0.488711    0.184067\n",
       " 0.0769441   0.0332629  0.000100631     0.000231214  0.396555    0.360156\n",
       " 0.00697144  0.0281971  0.0628741       0.144462     0.0239339   0.328154\n",
       " 0.224695    0.262069   0.219649     …  0.214952     0.0382734   0.0113426\n",
       " 0.0355875   0.272145   0.0402167       0.0393567    0.290431    0.14183\n",
       " 0.0545927   0.0325109  0.109186        0.106851     0.252959    0.0952739\n",
       " 0.0935068   0.040423   0.000122293     0.000119678  0.205259    0.186419\n",
       " 0.00847208  0.0342667  0.0764081       0.0747741    0.0123883   0.169854\n",
       " 0.678244    0.791057   0.663011     …  0.613657     0.109265    0.0323815\n",
       " 0.107421    0.821472   0.121394        0.112358     0.82914     0.404905\n",
       " 0.164788    0.0981344  0.329579        0.305045     0.722163    0.271994\n",
       " 0.282251    0.122017   0.000369142     0.000341663  0.585985    0.532199\n",
       " 0.025573    0.103434   0.230638        0.21347      0.0353669   0.48491"
      ]
     },
     "execution_count": 23,
     "metadata": {},
     "output_type": "execute_result"
    }
   ],
   "source": [
    "kron( rand(5,5) , rand(5,5) )"
   ]
  },
  {
   "cell_type": "markdown",
   "id": "e26afdc4-5b6f-4e8a-9773-c0105729b977",
   "metadata": {},
   "source": [
    "### Useful Krockecker identities\n",
    "\n",
    "* $(A\\otimes B)^T=A^T\\otimes B^T$\n",
    "* $(A\\otimes B)^{-1}=A^{-1}\\otimes B^{-1}$\n",
    "* $\\det(A\\otimes B)=\\det(A)^m\\det(B)^n$, $A\\in\\Re^{n,n}, B\\in\\Re^{m,m}$ \n",
    "* $\\mathrm{trace}(A\\otimes B)=\\mathrm{trace}(A) \\, \\mathrm{trace}(B)$\n",
    "* $A\\otimes B$ is orthogonal if $A$ and $B$ are orthogonal\n",
    "* $(A \\otimes B)(C \\otimes D)=(AC) \\otimes (BD)$\n",
    "* If $Au = \\lambda u$, and $Bv=\\mu v$, then if $X=vu^T$, then\n",
    "  $BXA^T =\\lambda \\mu X$, and also $AX^T B^T =\n",
    "  \\lambda \\mu X^T$.  Therefore $A \\otimes B$ and $B \\otimes A$\n",
    "  have the same eigenvalues, and transposed eigenvectors.\n",
    "\n",
    "(See [Wikipedia](https://en.wikipedia.org/wiki/Kronecker_product#Properties) for more properties. )"
   ]
  },
  {
   "cell_type": "markdown",
   "id": "fa76d5cf-8311-49fe-8605-9bd06ca31c62",
   "metadata": {},
   "source": [
    "## The vectorized Jacobian in Kronecker notation\n",
    "\n",
    "\n",
    "You see $$(I \\otimes X + X^T \\otimes I)  \\operatorname{vec}(dX) = \\operatorname{vec}(XdX + dX X) = \\operatorname{vec}( d(X^2))  $$\n",
    "\n",
    "(br)\n",
    "showing that $\\boxed{d(X^2) = (I \\otimes X + X^T \\otimes I) dX}$.\n",
    "\n",
    "Sometimes it is nice to think of $I \\otimes X + X^T \\otimes I$ as a linear operator on *non-vectorized* matrices.   We denote this by square brackets: $(I \\otimes X + X^T \\otimes I) [E] = XE + EX$, or more generally by $(A \\otimes B) [C] = BCA^T$."
   ]
  },
  {
   "cell_type": "markdown",
   "id": "4f289bb7-21a4-4214-b242-69e25604688a",
   "metadata": {},
   "source": [
    "## Automatic Differentiation (is not finite differences nor symbolic)\n",
    "It comes in forward and reverse modes. Let's try forward."
   ]
  },
  {
   "cell_type": "code",
   "execution_count": 24,
   "id": "9a76d600-8388-40e8-99c0-243d2ee60455",
   "metadata": {},
   "outputs": [
    {
     "data": {
      "text/latex": [
       "$$ \\begin{equation}\n",
       "\\left[\n",
       "\\begin{array}{cccc}\n",
       "2 p & r & q & 0 \\\\\n",
       "q & p + s & 0 & q \\\\\n",
       "r & 0 & p + s & r \\\\\n",
       "0 & r & q & 2 s \\\\\n",
       "\\end{array}\n",
       "\\right]\n",
       "\\end{equation}\n",
       " $$"
      ],
      "text/plain": [
       "4×4 Matrix{Num}:\n",
       " 2p      r      q   0\n",
       "  q  p + s      0   q\n",
       "  r      0  p + s   r\n",
       "  0      r      q  2s"
      ]
     },
     "execution_count": 24,
     "metadata": {},
     "output_type": "execute_result"
    }
   ],
   "source": [
    "J"
   ]
  },
  {
   "cell_type": "code",
   "execution_count": 25,
   "id": "080b83d2-0d2f-4e58-ac96-e04f160d43ea",
   "metadata": {},
   "outputs": [
    {
     "data": {
      "text/plain": [
       "4×4 Matrix{Int64}:\n",
       " 2  2  3  0\n",
       " 3  5  0  3\n",
       " 2  0  5  2\n",
       " 0  2  3  8"
      ]
     },
     "execution_count": 25,
     "metadata": {},
     "output_type": "execute_result"
    }
   ],
   "source": [
    "ForwardDiff.jacobian(X->X^2,M)"
   ]
  },
  {
   "cell_type": "code",
   "execution_count": 26,
   "id": "1a0ad0d3-5ecb-45f5-847c-5d5a13d77832",
   "metadata": {},
   "outputs": [
    {
     "data": {
      "text/plain": [
       "4×4 Matrix{Int64}:\n",
       " 2  3  2  0\n",
       " 2  5  0  2\n",
       " 3  0  5  3\n",
       " 0  3  2  8"
      ]
     },
     "execution_count": 26,
     "metadata": {},
     "output_type": "execute_result"
    }
   ],
   "source": [
    "substitute(J, Dict(X.=>[1 3;2 4] ))"
   ]
  },
  {
   "cell_type": "code",
   "execution_count": 27,
   "id": "7cce8cd3-9c62-4490-9e52-478301d288b4",
   "metadata": {},
   "outputs": [
    {
     "data": {
      "text/latex": [
       "$$ \\begin{equation}\n",
       "\\left[\n",
       "\\begin{array}{cccc}\n",
       "2 p & r & q & 0 \\\\\n",
       "q & p + s & 0 & q \\\\\n",
       "r & 0 & p + s & r \\\\\n",
       "0 & r & q & 2 s \\\\\n",
       "\\end{array}\n",
       "\\right]\n",
       "\\end{equation}\n",
       " $$"
      ],
      "text/plain": [
       "4×4 Matrix{Num}:\n",
       " 2p      r      q   0\n",
       "  q  p + s      0   q\n",
       "  r      0  p + s   r\n",
       "  0      r      q  2s"
      ]
     },
     "execution_count": 27,
     "metadata": {},
     "output_type": "execute_result"
    }
   ],
   "source": [
    "ForwardDiff.jacobian(X->X^2,X)"
   ]
  },
  {
   "cell_type": "markdown",
   "id": "06d1a4da-501e-485b-b301-fc050e332f3c",
   "metadata": {},
   "source": [
    "## The matrix cube function $X \\mapsto X^3$"
   ]
  },
  {
   "cell_type": "code",
   "execution_count": 28,
   "id": "0d89bbf9-2584-4c1d-889b-050619d863a7",
   "metadata": {},
   "outputs": [
    {
     "data": {
      "text/latex": [
       "$$ \\begin{equation}\n",
       "\\left[\n",
       "\\begin{array}{cc}\n",
       "p^{3} + 2 p q r + q r s & p^{2} r + p r s + r^{2} q + s^{2} r \\\\\n",
       "p^{2} q + p q s + q^{2} r + s^{2} q & p q r + 2 q r s + s^{3} \\\\\n",
       "\\end{array}\n",
       "\\right]\n",
       "\\end{equation}\n",
       " $$"
      ],
      "text/plain": [
       "2×2 Matrix{Num}:\n",
       "                p^3 + 2p*q*r + q*r*s  (p^2)*r + p*r*s + q*(r^2) + r*(s^2)\n",
       " (p^2)*q + p*q*s + (q^2)*r + q*(s^2)                 p*q*r + 2q*r*s + s^3"
      ]
     },
     "execution_count": 28,
     "metadata": {},
     "output_type": "execute_result"
    }
   ],
   "source": [
    "expand.(X^3)"
   ]
  },
  {
   "cell_type": "markdown",
   "id": "d4f5ae81-f49e-4071-85ab-348289831281",
   "metadata": {},
   "source": [
    "### Symbolic Jacobian\n",
    "The Jacobian of the (flattened) matrix function $X^3$ symbolically:"
   ]
  },
  {
   "cell_type": "code",
   "execution_count": 29,
   "id": "33074b2e-9665-4270-b07f-e22a69a889c6",
   "metadata": {},
   "outputs": [
    {
     "data": {
      "text/latex": [
       "$$ \\begin{equation}\n",
       "\\left[\n",
       "\\begin{array}{cccc}\n",
       "3 p^{2} + 2 q r & 2 p r + r s & 2 p q + q s & q r \\\\\n",
       "2 p q + q s & p^{2} + p s + 2 q r + s^{2} & q^{2} & p q + 2 q s \\\\\n",
       "2 p r + r s & r^{2} & p^{2} + p s + 2 q r + s^{2} & p r + 2 r s \\\\\n",
       "q r & p r + 2 r s & p q + 2 q s & 2 q r + 3 s^{2} \\\\\n",
       "\\end{array}\n",
       "\\right]\n",
       "\\end{equation}\n",
       " $$"
      ],
      "text/plain": [
       "4×4 Matrix{Num}:\n",
       " 3(p^2) + 2q*r              2p*r + r*s              2p*q + q*s            q*r\n",
       "    2p*q + q*s  p^2 + p*s + 2q*r + s^2                     q^2     p*q + 2q*s\n",
       "    2p*r + r*s                     r^2  p^2 + p*s + 2q*r + s^2     p*r + 2r*s\n",
       "           q*r              p*r + 2r*s              p*q + 2q*s  2q*r + 3(s^2)"
      ]
     },
     "execution_count": 29,
     "metadata": {},
     "output_type": "execute_result"
    }
   ],
   "source": [
    "expand.(jac(X^3, X))"
   ]
  },
  {
   "cell_type": "code",
   "execution_count": 30,
   "id": "3509e09a-022e-47a8-a944-bef323bed7ab",
   "metadata": {},
   "outputs": [
    {
     "data": {
      "text/latex": [
       "$$ \\begin{equation}\n",
       "\\left[\n",
       "\\begin{array}{cccc}\n",
       "3 p^{2} + 2 q r & 2 p r + r s & 2 p q + q s & q r \\\\\n",
       "2 p q + q s & p^{2} + p s + 2 q r + s^{2} & q^{2} & p q + 2 q s \\\\\n",
       "2 p r + r s & r^{2} & p^{2} + p s + 2 q r + s^{2} & p r + 2 r s \\\\\n",
       "q r & p r + 2 r s & p q + 2 q s & 2 q r + 3 s^{2} \\\\\n",
       "\\end{array}\n",
       "\\right]\n",
       "\\end{equation}\n",
       " $$"
      ],
      "text/plain": [
       "4×4 Matrix{Num}:\n",
       " 3(p^2) + 2q*r              2p*r + r*s              2p*q + q*s            q*r\n",
       "    2p*q + q*s  p^2 + p*s + 2q*r + s^2                     q^2     p*q + 2q*s\n",
       "    2p*r + r*s                     r^2  p^2 + p*s + 2q*r + s^2     p*r + 2r*s\n",
       "           q*r              p*r + 2r*s              p*q + 2q*s  2q*r + 3(s^2)"
      ]
     },
     "execution_count": 30,
     "metadata": {},
     "output_type": "execute_result"
    }
   ],
   "source": [
    "expand.(ForwardDiff.jacobian(X->X^3,X))"
   ]
  },
  {
   "cell_type": "markdown",
   "id": "aefed6f8-e745-4bcd-86ed-a56e0699961b",
   "metadata": {},
   "source": [
    "## Linear transformation Jacobian\n",
    "\n",
    "By the product rule, $d(X^3) = dX \\, X^2 + X \\, dX \\, X + X^2 \\, dX$.\n",
    "\n",
    "with numerical data:"
   ]
  },
  {
   "cell_type": "code",
   "execution_count": 31,
   "id": "17c2dd56-4b97-448d-b544-30b86a2bc405",
   "metadata": {},
   "outputs": [
    {
     "data": {
      "text/plain": [
       "X³′ (generic function with 1 method)"
      ]
     },
     "execution_count": 31,
     "metadata": {},
     "output_type": "execute_result"
    }
   ],
   "source": [
    "X³′(X, dX) = dX * X^2 + X * dX * X + X^2 * dX"
   ]
  },
  {
   "cell_type": "code",
   "execution_count": 32,
   "id": "e6eeb609-98aa-42bf-8a61-d5c358661b00",
   "metadata": {},
   "outputs": [
    {
     "data": {
      "text/plain": [
       "2×2 Matrix{Float64}:\n",
       " 0.0129015  0.0161016\n",
       " 0.0174014  0.0195013"
      ]
     },
     "execution_count": 32,
     "metadata": {},
     "output_type": "execute_result"
    }
   ],
   "source": [
    "(E+M)^3 - M^3"
   ]
  },
  {
   "cell_type": "code",
   "execution_count": 33,
   "id": "b47eefd8-873e-4a0c-99d9-d2b9a249e969",
   "metadata": {},
   "outputs": [
    {
     "data": {
      "text/plain": [
       "2×2 Matrix{Float64}:\n",
       " 0.0129  0.0161\n",
       " 0.0174  0.0195"
      ]
     },
     "execution_count": 33,
     "metadata": {},
     "output_type": "execute_result"
    }
   ],
   "source": [
    "X³′(M, E)"
   ]
  },
  {
   "cell_type": "markdown",
   "id": "c3615d41-144b-4336-86fa-5e6e9c888529",
   "metadata": {},
   "source": [
    "check against the symbolic answer:"
   ]
  },
  {
   "cell_type": "code",
   "execution_count": 34,
   "id": "61198f48-bd24-4ae2-91bc-35d714bc7f10",
   "metadata": {},
   "outputs": [
    {
     "data": {
      "text/plain": [
       "4×4 Matrix{Int64}:\n",
       " 15  12  18   6\n",
       " 18  33   9  27\n",
       " 12   4  33  18\n",
       "  6  18  27  60"
      ]
     },
     "execution_count": 34,
     "metadata": {},
     "output_type": "execute_result"
    }
   ],
   "source": [
    "substitute( Symbolics.jacobian(vec(X^3), vec(X)) , Dict(p=>M[1,1],q=>M[2,1],r=>M[1,2],s=>M[2,2]))"
   ]
  },
  {
   "cell_type": "code",
   "execution_count": 35,
   "id": "056ebdca-8d0b-4d1a-8923-c6c770769114",
   "metadata": {},
   "outputs": [
    {
     "data": {
      "text/plain": [
       "4-element Vector{Float64}:\n",
       " 0.012899999999999998\n",
       " 0.0174\n",
       " 0.0161\n",
       " 0.0195"
      ]
     },
     "execution_count": 35,
     "metadata": {},
     "output_type": "execute_result"
    }
   ],
   "source": [
    "substitute( Symbolics.jacobian(vec(X^3), vec(X)) , Dict(p=>M[1,1],q=>M[2,1],r=>M[1,2],s=>M[2,2])) * vec(E)"
   ]
  },
  {
   "cell_type": "markdown",
   "id": "b65e4f21-48d0-4a7b-9b44-15e44f573e7f",
   "metadata": {},
   "source": [
    "### The Jacobian in Kronecker Notation\n",
    "\n",
    "Again using the key Kronecker identity, we find that:\n",
    "$$\n",
    "\\operatorname{vec}\\left( dX \\, X^2 + X \\, dX \\, X + X^2 \\, dX \\right) =\n",
    "\\left( (X^T)^2 \\otimes I + X^T \\otimes X + I \\otimes X^2 \\right) \\operatorname{vec}(dX)\n",
    "$$\n",
    "giving the Jacobian $\\boxed{dX \\, X^2 + X \\, dX \\, X + X^2 \\, dX}$, or in the $2 \\times 2$ case:"
   ]
  },
  {
   "cell_type": "code",
   "execution_count": 36,
   "id": "3e87c992-b2da-41c9-99a3-145970977320",
   "metadata": {},
   "outputs": [
    {
     "data": {
      "text/latex": [
       "$$ \\begin{equation}\n",
       "\\left[\n",
       "\\begin{array}{cccc}\n",
       "3 p^{2} + 2 q r & 2 p r + r s & 2 p q + q s & q r \\\\\n",
       "2 p q + q s & p^{2} + p s + 2 q r + s^{2} & q^{2} & p q + 2 q s \\\\\n",
       "2 p r + r s & r^{2} & p^{2} + p s + 2 q r + s^{2} & p r + 2 r s \\\\\n",
       "q r & p r + 2 r s & p q + 2 q s & 2 q r + 3 s^{2} \\\\\n",
       "\\end{array}\n",
       "\\right]\n",
       "\\end{equation}\n",
       " $$"
      ],
      "text/plain": [
       "4×4 Matrix{Num}:\n",
       " 3(p^2) + 2q*r              2p*r + r*s              2p*q + q*s            q*r\n",
       "    2p*q + q*s  p^2 + p*s + 2q*r + s^2                     q^2     p*q + 2q*s\n",
       "    2p*r + r*s                     r^2  p^2 + p*s + 2q*r + s^2     p*r + 2r*s\n",
       "           q*r              p*r + 2r*s              p*q + 2q*s  2q*r + 3(s^2)"
      ]
     },
     "execution_count": 36,
     "metadata": {},
     "output_type": "execute_result"
    }
   ],
   "source": [
    "expand.( kron(X'^2,I2) +  + kron(X',X) + kron(I2,X^2)  )"
   ]
  },
  {
   "cell_type": "markdown",
   "id": "f4f57529-4582-4550-854e-60eca4a6bc3f",
   "metadata": {},
   "source": [
    "# The LU Decomposition\n",
    "\n",
    "Recall the LU Decomposition $A = LU$ factors a matrix into unit lower-triangular $L$ and upper triangular $U$:"
   ]
  },
  {
   "cell_type": "code",
   "execution_count": 37,
   "id": "3b58eb86-c2ca-432b-bfb9-ed00d42ff2f3",
   "metadata": {},
   "outputs": [
    {
     "data": {
      "text/latex": [
       "$$ \\begin{equation}\n",
       "\\left[\n",
       "\\begin{array}{cc}\n",
       "1 & 0 \\\\\n",
       "\\frac{q}{p} & 1 \\\\\n",
       "\\end{array}\n",
       "\\right]\n",
       "\\end{equation}\n",
       " $$"
      ],
      "text/plain": [
       "2×2 Matrix{Num}:\n",
       "     1  0\n",
       " q / p  1"
      ]
     },
     "metadata": {},
     "output_type": "display_data"
    },
    {
     "data": {
      "text/latex": [
       "$$ \\begin{equation}\n",
       "\\left[\n",
       "\\begin{array}{cc}\n",
       "p & r \\\\\n",
       "0 & s + \\frac{ - q r}{p} \\\\\n",
       "\\end{array}\n",
       "\\right]\n",
       "\\end{equation}\n",
       " $$"
      ],
      "text/plain": [
       "2×2 Matrix{Num}:\n",
       " p               r\n",
       " 0  s + (-q*r) / p"
      ]
     },
     "execution_count": 37,
     "metadata": {},
     "output_type": "execute_result"
    }
   ],
   "source": [
    "L,U = lu(X);\n",
    "display(L)\n",
    "U"
   ]
  },
  {
   "cell_type": "code",
   "execution_count": 38,
   "id": "4c407b8f-53b8-43ef-a632-232e8a0a3888",
   "metadata": {},
   "outputs": [
    {
     "data": {
      "text/latex": [
       "$$ \\begin{equation}\n",
       "\\left[\n",
       "\\begin{array}{cc}\n",
       "p & r \\\\\n",
       "q & s \\\\\n",
       "\\end{array}\n",
       "\\right]\n",
       "\\end{equation}\n",
       " $$"
      ],
      "text/plain": [
       "2×2 Matrix{Num}:\n",
       " p  r\n",
       " q  s"
      ]
     },
     "execution_count": 38,
     "metadata": {},
     "output_type": "execute_result"
    }
   ],
   "source": [
    "simplify_fractions.(L*U)"
   ]
  },
  {
   "cell_type": "markdown",
   "id": "f239ba81-80bb-4769-b631-eddcaa14a1fd",
   "metadata": {},
   "source": [
    "The four entries of X: p,q,r,s are transformed into these four entries in LU:"
   ]
  },
  {
   "cell_type": "code",
   "execution_count": 39,
   "id": "874decfd-1f7d-419e-8a6b-e08f9cd053f8",
   "metadata": {},
   "outputs": [
    {
     "data": {
      "text/latex": [
       "$$ \\begin{equation}\n",
       "\\left[\n",
       "\\begin{array}{c}\n",
       "\\frac{q}{p} \\\\\n",
       "p \\\\\n",
       "r \\\\\n",
       "s + \\frac{ - q r}{p} \\\\\n",
       "\\end{array}\n",
       "\\right]\n",
       "\\end{equation}\n",
       " $$"
      ],
      "text/plain": [
       "4-element Vector{Num}:\n",
       "          q / p\n",
       "              p\n",
       "              r\n",
       " s + (-q*r) / p"
      ]
     },
     "execution_count": 39,
     "metadata": {},
     "output_type": "execute_result"
    }
   ],
   "source": [
    "[L[2,1],U[1,1],U[1,2],U[2,2]]"
   ]
  },
  {
   "cell_type": "code",
   "execution_count": 40,
   "id": "9fcb266b-b66b-4603-9bba-ff03f28134ac",
   "metadata": {},
   "outputs": [
    {
     "data": {
      "text/latex": [
       "$$ \\begin{equation}\n",
       "\\left[\n",
       "\\begin{array}{cccc}\n",
       " - \\frac{q}{p^{2}} & \\frac{1}{p} & 0 & 0 \\\\\n",
       "1 & 0 & 0 & 0 \\\\\n",
       "0 & 0 & 1 & 0 \\\\\n",
       " - \\frac{ - q r}{p^{2}} & \\frac{ - r}{p} & \\frac{ - q}{p} & 1 \\\\\n",
       "\\end{array}\n",
       "\\right]\n",
       "\\end{equation}\n",
       " $$"
      ],
      "text/plain": [
       "4×4 Matrix{Num}:\n",
       "      -(q / (p^2))     1 / p         0  0\n",
       "                 1         0         0  0\n",
       "                 0         0         1  0\n",
       " -((-q*r) / (p^2))  (-r) / p  (-q) / p  1"
      ]
     },
     "execution_count": 40,
     "metadata": {},
     "output_type": "execute_result"
    }
   ],
   "source": [
    "jac([L[2,1],U[1,1],U[1,2],U[2,2]], X)"
   ]
  },
  {
   "cell_type": "markdown",
   "id": "16d01e22-b9ca-41d6-b566-6b4314cb4887",
   "metadata": {},
   "source": [
    "Exercise: Relate this to $d(LU) = dL U + L dU$"
   ]
  },
  {
   "cell_type": "markdown",
   "id": "4288fa9e-50be-4430-afc1-b656f49a2477",
   "metadata": {},
   "source": [
    "## Traceless symmetric eigenproblem: an example with two parameters, not four"
   ]
  },
  {
   "cell_type": "code",
   "execution_count": 41,
   "id": "4b7fe14b-f282-423d-8ef9-f8b54eb077f1",
   "metadata": {},
   "outputs": [
    {
     "data": {
      "text/latex": [
       "$$ \\begin{equation}\n",
       "\\left[\n",
       "\\begin{array}{cc}\n",
       "p & s \\\\\n",
       "s &  - p \\\\\n",
       "\\end{array}\n",
       "\\right]\n",
       "\\end{equation}\n",
       " $$"
      ],
      "text/plain": [
       "2×2 Matrix{Num}:\n",
       " p   s\n",
       " s  -p"
      ]
     },
     "execution_count": 41,
     "metadata": {},
     "output_type": "execute_result"
    }
   ],
   "source": [
    "S = [p s; s -p]"
   ]
  },
  {
   "cell_type": "markdown",
   "id": "498ed474-f87b-4c8b-9907-9bba7abab476",
   "metadata": {},
   "source": [
    "We know that the eigenvalues add to 0 (from the trace) and the eigenvectors are orthogonal (from being symmetric), so we can represent the eigenvectors and eigenvalues:"
   ]
  },
  {
   "cell_type": "code",
   "execution_count": 42,
   "id": "d8800e6e-06fd-4964-99ea-bc0a35ec2cd2",
   "metadata": {},
   "outputs": [
    {
     "data": {
      "text/latex": [
       "$$ \\begin{equation}\n",
       "\\left[\n",
       "\\begin{array}{cc}\n",
       "\\cos\\left( \\frac{1}{2} \\theta \\right) &  - \\sin\\left( \\frac{1}{2} \\theta \\right) \\\\\n",
       "\\sin\\left( \\frac{1}{2} \\theta \\right) & \\cos\\left( \\frac{1}{2} \\theta \\right) \\\\\n",
       "\\end{array}\n",
       "\\right]\n",
       "\\end{equation}\n",
       " $$"
      ],
      "text/plain": [
       "2×2 Matrix{Num}:\n",
       " cos((1//2)*θ)  -sin((1//2)*θ)\n",
       " sin((1//2)*θ)   cos((1//2)*θ)"
      ]
     },
     "execution_count": 42,
     "metadata": {},
     "output_type": "execute_result"
    }
   ],
   "source": [
    "Q = [cos(θ/2) -sin(θ/2); sin(θ/2) cos(θ/2)]  # Eigenvector matrix"
   ]
  },
  {
   "cell_type": "code",
   "execution_count": 43,
   "id": "5396f26d-0ad6-410c-819b-8bfdc86c4c03",
   "metadata": {},
   "outputs": [
    {
     "data": {
      "text/latex": [
       "$$ \\begin{equation}\n",
       "\\left[\n",
       "\\begin{array}{cc}\n",
       "r & 0 \\\\\n",
       "0 &  - r \\\\\n",
       "\\end{array}\n",
       "\\right]\n",
       "\\end{equation}\n",
       " $$"
      ],
      "text/plain": [
       "2×2 Matrix{Num}:\n",
       " r   0\n",
       " 0  -r"
      ]
     },
     "execution_count": 43,
     "metadata": {},
     "output_type": "execute_result"
    }
   ],
   "source": [
    "Λ = [r 0;0 -r] # Eigenvalue matrix"
   ]
  },
  {
   "cell_type": "code",
   "execution_count": 44,
   "id": "c74475df-c1ce-4a9f-9735-60ce3b83ef57",
   "metadata": {},
   "outputs": [
    {
     "data": {
      "text/latex": [
       "$$ \\begin{equation}\n",
       "\\left[\n",
       "\\begin{array}{cc}\n",
       "\\cos^{2}\\left( \\frac{1}{2} \\theta \\right) r - \\sin^{2}\\left( \\frac{1}{2} \\theta \\right) r & r \\sin\\left( \\theta \\right) \\\\\n",
       "r \\sin\\left( \\theta \\right) &  - \\cos^{2}\\left( \\frac{1}{2} \\theta \\right) r + \\sin^{2}\\left( \\frac{1}{2} \\theta \\right) r \\\\\n",
       "\\end{array}\n",
       "\\right]\n",
       "\\end{equation}\n",
       " $$"
      ],
      "text/plain": [
       "2×2 Matrix{Num}:\n",
       " r*(cos((1//2)*θ)^2) - r*(sin((1//2)*θ)^2)  …                                    r*sin(θ)\n",
       "                                  r*sin(θ)     -r*(cos((1//2)*θ)^2) + r*(sin((1//2)*θ)^2)"
      ]
     },
     "execution_count": 44,
     "metadata": {},
     "output_type": "execute_result"
    }
   ],
   "source": [
    "Symbolics.simplify.(Q * Λ * Q')"
   ]
  },
  {
   "cell_type": "markdown",
   "id": "6850542f-f1c1-4af6-934a-c75d1b055857",
   "metadata": {},
   "source": [
    "The relationship between θ,r and p,s:"
   ]
  },
  {
   "cell_type": "code",
   "execution_count": 45,
   "id": "369cc496-7968-4f68-b200-6c07d8da95ab",
   "metadata": {},
   "outputs": [
    {
     "data": {
      "text/latex": [
       "$$ \\begin{equation}\n",
       "\\left[\n",
       "\\begin{array}{cc}\n",
       "p & s \\\\\n",
       "s &  - p \\\\\n",
       "\\end{array}\n",
       "\\right]\n",
       "\\end{equation}\n",
       " $$"
      ],
      "text/plain": [
       "2×2 Matrix{Num}:\n",
       " p   s\n",
       " s  -p"
      ]
     },
     "execution_count": 45,
     "metadata": {},
     "output_type": "execute_result"
    }
   ],
   "source": [
    "S"
   ]
  },
  {
   "cell_type": "code",
   "execution_count": 46,
   "id": "e6354169-66de-4c8a-b295-7e7a0f278087",
   "metadata": {},
   "outputs": [
    {
     "data": {
      "text/latex": [
       "$$ \\begin{equation}\n",
       "\\left[\n",
       "\\begin{array}{cc}\n",
       "r \\cos\\left( \\theta \\right) & r \\sin\\left( \\theta \\right) \\\\\n",
       "r \\sin\\left( \\theta \\right) &  - r \\cos\\left( \\theta \\right) \\\\\n",
       "\\end{array}\n",
       "\\right]\n",
       "\\end{equation}\n",
       " $$"
      ],
      "text/plain": [
       "2×2 Matrix{Num}:\n",
       " r*cos(θ)   r*sin(θ)\n",
       " r*sin(θ)  -r*cos(θ)"
      ]
     },
     "execution_count": 46,
     "metadata": {},
     "output_type": "execute_result"
    }
   ],
   "source": [
    "simplify.(Q*Λ*Q')"
   ]
  },
  {
   "cell_type": "code",
   "execution_count": 47,
   "id": "4db06a0c-07e2-45c3-b952-505b699ecbed",
   "metadata": {},
   "outputs": [
    {
     "data": {
      "text/latex": [
       "$$ \\begin{equation}\n",
       "\\left[\n",
       "\\begin{array}{cc}\n",
       "r \\cos\\left( \\theta \\right) & r \\sin\\left( \\theta \\right) \\\\\n",
       "r \\sin\\left( \\theta \\right) &  - r \\cos\\left( \\theta \\right) \\\\\n",
       "\\end{array}\n",
       "\\right]\n",
       "\\end{equation}\n",
       " $$"
      ],
      "text/plain": [
       "2×2 Matrix{Num}:\n",
       " r*cos(θ)   r*sin(θ)\n",
       " r*sin(θ)  -r*cos(θ)"
      ]
     },
     "execution_count": 47,
     "metadata": {},
     "output_type": "execute_result"
    }
   ],
   "source": [
    "[r*cos(θ) r*sin(θ) ; r*sin(θ) -r*cos(θ)]"
   ]
  },
  {
   "cell_type": "code",
   "execution_count": 48,
   "id": "ab07c69f-24cd-43c3-8f54-fac554380896",
   "metadata": {},
   "outputs": [
    {
     "data": {
      "text/latex": [
       "$$ \\begin{equation}\n",
       "\\left[\n",
       "\\begin{array}{cc}\n",
       "\\cos\\left( \\theta \\right) &  - r \\sin\\left( \\theta \\right) \\\\\n",
       "\\sin\\left( \\theta \\right) & r \\cos\\left( \\theta \\right) \\\\\n",
       "\\end{array}\n",
       "\\right]\n",
       "\\end{equation}\n",
       " $$"
      ],
      "text/plain": [
       "2×2 Matrix{Num}:\n",
       " cos(θ)  -r*sin(θ)\n",
       " sin(θ)   r*cos(θ)"
      ]
     },
     "execution_count": 48,
     "metadata": {},
     "output_type": "execute_result"
    }
   ],
   "source": [
    "simplify.(jac( (Q*Λ*Q')[1:2] ,  [r,θ]))"
   ]
  },
  {
   "cell_type": "markdown",
   "id": "7909dcb5-b8d6-471b-8771-d0f22f375d1d",
   "metadata": {},
   "source": [
    "Interesting mathematical observation: these are the formulas you may remember\n",
    "from other classes that relate cartesian coordinates to polar coordinates in the plane."
   ]
  },
  {
   "cell_type": "code",
   "execution_count": 49,
   "id": "ccfaf11d-e176-4fd3-b6e9-16be12dfb5df",
   "metadata": {},
   "outputs": [
    {
     "data": {
      "text/latex": [
       "$$ \\begin{equation}\n",
       "\\cos^{2}\\left( \\theta \\right) r + \\sin^{2}\\left( \\theta \\right) r\n",
       "\\end{equation}\n",
       " $$"
      ],
      "text/plain": [
       "r*(cos(θ)^2) + r*(sin(θ)^2)"
      ]
     },
     "execution_count": 49,
     "metadata": {},
     "output_type": "execute_result"
    }
   ],
   "source": [
    "jacobian_det = simplify(det(simplify.(jac( (Q*Λ*Q')[1:2] ,  [r,θ]))))"
   ]
  },
  {
   "cell_type": "markdown",
   "id": "1a83be9c-c76b-4d2d-831f-b2f5837ee6c4",
   "metadata": {},
   "source": [
    "Mathematical aside det J=r , this is the change of variables from x,y to r,θ that you may have seen in 18.02.  This eigenvalue problem is the same as the cartesian coordinates to polar representations of the plane. Often written dx dy = r dr dθ"
   ]
  },
  {
   "cell_type": "markdown",
   "id": "d3ad6a31-875a-44ac-968a-2272567f3df6",
   "metadata": {},
   "source": [
    "## The full 2x2 symmetric eigenproblem"
   ]
  },
  {
   "cell_type": "code",
   "execution_count": 50,
   "id": "16c7cb3e-4272-49d9-9073-c4dbbc6480bc",
   "metadata": {},
   "outputs": [
    {
     "data": {
      "text/latex": [
       "$$ \\begin{equation}\n",
       "\\left[\n",
       "\\begin{array}{c}\n",
       "\\mathtt{\\lambda{_1}} \\\\\n",
       "\\mathtt{\\lambda{_2}} \\\\\n",
       "\\end{array}\n",
       "\\right]\n",
       "\\end{equation}\n",
       " $$"
      ],
      "text/plain": [
       "2-element Vector{Num}:\n",
       " λ₁\n",
       " λ₂"
      ]
     },
     "execution_count": 50,
     "metadata": {},
     "output_type": "execute_result"
    }
   ],
   "source": [
    "@variables λ₁ λ₂"
   ]
  },
  {
   "cell_type": "markdown",
   "id": "e5150372-e485-407b-a1bc-d3ac77bbaa4b",
   "metadata": {},
   "source": [
    "We think of diagonalization:\n",
    "$$\n",
    "\\left( \\begin{array}{cc}\n",
    "p & s \\\\ s & r \n",
    "\\end{array} \\right) =\n",
    "\\left( \\begin{array}{rr} \\cos(\\theta) & -\\sin(\\theta) \\\\ \\sin(\\theta) & \\cos(\\theta) \n",
    "\\end{array} \\right)\n",
    "\\left( \\begin{array}{cc}\n",
    "\\lambda_1 & 0 \\\\ 0  & \\lambda_2 \n",
    "\\end{array} \\right) \n",
    "\\left( \\begin{array}{rr} \\cos(\\theta) & -\\sin(\\theta) \\\\ \\sin(\\theta) & \\cos(\\theta) \n",
    "\\end{array} \\right)^T \n",
    "$$\n",
    "that is, $S = QΛQ^T$, as the function\n",
    "$$\n",
    "\\lambda_1,\\lambda_2,θ  \\mapsto  p,r,s\n",
    "$$\n"
   ]
  },
  {
   "cell_type": "code",
   "execution_count": 51,
   "id": "116c144d-8c85-4cd8-8738-0ef75967bfde",
   "metadata": {},
   "outputs": [
    {
     "data": {
      "text/latex": [
       "$$ \\begin{equation}\n",
       "\\left[\n",
       "\\begin{array}{ccc}\n",
       "\\cos^{2}\\left( \\theta \\right) & \\sin^{2}\\left( \\theta \\right) &  - 2 \\cos\\left( \\theta \\right) \\sin\\left( \\theta \\right) \\mathtt{\\lambda{_1}} + 2 \\cos\\left( \\theta \\right) \\sin\\left( \\theta \\right) \\mathtt{\\lambda{_2}} \\\\\n",
       "\\sin^{2}\\left( \\theta \\right) & \\cos^{2}\\left( \\theta \\right) & 2 \\cos\\left( \\theta \\right) \\sin\\left( \\theta \\right) \\mathtt{\\lambda{_1}} - 2 \\cos\\left( \\theta \\right) \\sin\\left( \\theta \\right) \\mathtt{\\lambda{_2}} \\\\\n",
       "\\cos\\left( \\theta \\right) \\sin\\left( \\theta \\right) &  - \\cos\\left( \\theta \\right) \\sin\\left( \\theta \\right) & \\cos^{2}\\left( \\theta \\right) \\mathtt{\\lambda{_1}} - \\cos^{2}\\left( \\theta \\right) \\mathtt{\\lambda{_2}} - \\sin^{2}\\left( \\theta \\right) \\mathtt{\\lambda{_1}} + \\sin^{2}\\left( \\theta \\right) \\mathtt{\\lambda{_2}} \\\\\n",
       "\\end{array}\n",
       "\\right]\n",
       "\\end{equation}\n",
       " $$"
      ],
      "text/plain": [
       "3×3 Matrix{Num}:\n",
       "      cos(θ)^2  …                         -2cos(θ)*sin(θ)*λ₁ + 2cos(θ)*sin(θ)*λ₂\n",
       "      sin(θ)^2                             2cos(θ)*sin(θ)*λ₁ - 2cos(θ)*sin(θ)*λ₂\n",
       " cos(θ)*sin(θ)     (cos(θ)^2)*λ₁ - (cos(θ)^2)*λ₂ - (sin(θ)^2)*λ₁ + (sin(θ)^2)*λ₂"
      ]
     },
     "execution_count": 51,
     "metadata": {},
     "output_type": "execute_result"
    }
   ],
   "source": [
    "Q = [cos(θ) -sin(θ); sin(θ) cos(θ)]\n",
    "S = Q*[λ₁ 0;0 λ₂]*Q'\n",
    "[p s;s r], S\n",
    "J = jac([S[1,1],S[2,2],S[1,2]] , [λ₁,λ₂,θ])"
   ]
  },
  {
   "cell_type": "markdown",
   "id": "c759d7e7-7215-41bf-b62a-e57b3e43a7e1",
   "metadata": {},
   "source": [
    "The determinant of this transformation simplifies to $\\lambda_1 - \\lambda_2$\n",
    "which some people interpret as a kind of repulsion between the two eigenvalues:\n",
    "that is there is a tendency for the two eigenvalues to not want to be too close\n",
    "together.  (If both are equal, when n=2, the matrix is $\\alpha I$, one condition\n",
    "takes three parameters down to 1)"
   ]
  }
 ],
 "metadata": {
  "kernelspec": {
   "display_name": "Julia 1.11.2",
   "language": "julia",
   "name": "julia-1.11"
  },
  "language_info": {
   "file_extension": ".jl",
   "mimetype": "application/julia",
   "name": "julia",
   "version": "1.11.2"
  }
 },
 "nbformat": 4,
 "nbformat_minor": 5
}
