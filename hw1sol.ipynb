{
 "cells": [
  {
   "cell_type": "markdown",
   "id": "7358cebc",
   "metadata": {},
   "source": [
    "# Matrix Calculus IAP 2022: Homework 1 Solutions"
   ]
  },
  {
   "cell_type": "markdown",
   "id": "2dc8362b",
   "metadata": {},
   "source": [
    "## Problem 1\n",
    "\n",
    "For problem 1, you were asked to check your derivatives against finite-difference approximations.  This is always a good idea — derivatives of complicated functions are surpisingly easy to get wrong in hand calculations, and a quick check against random inputs will catch most bugs."
   ]
  },
  {
   "cell_type": "markdown",
   "id": "916d6704",
   "metadata": {},
   "source": [
    "As in the [finite differences notebook](https://nbviewer.org/github/mitmath/matrixcalc/blob/main/Finite%20difference%20checks.ipynb), we will want to measure accuracy by looking at the *relative error*.  Let's define a function to compute that:"
   ]
  },
  {
   "cell_type": "code",
   "execution_count": 1,
   "id": "0b5df4df",
   "metadata": {},
   "outputs": [
    {
     "data": {
      "text/plain": [
       "relerr (generic function with 1 method)"
      ]
     },
     "execution_count": 1,
     "metadata": {},
     "output_type": "execute_result"
    }
   ],
   "source": [
    "using LinearAlgebra # for norm and trace\n",
    "\n",
    "relerr(a, b) = norm(a - b) * 2 / (norm(a) + norm(b))"
   ]
  },
  {
   "cell_type": "markdown",
   "id": "4eb26371",
   "metadata": {},
   "source": [
    "**For fun**, we will **also** check some of our derivatives against the *analytical* [automatic differentiation](https://en.wikipedia.org/wiki/Automatic_differentiation) results from the [ForwardDiff.jl package](https://github.com/JuliaDiff/ForwardDiff.jl), as well as from Richardson-extrapolated \"super-accurate\" finite differences from the [FiniteDifferences.jl package](https://github.com/JuliaDiff/FiniteDifferences.jl#richardson-extrapolation).  (Students are **not required** to do this in their solutions.)"
   ]
  },
  {
   "cell_type": "code",
   "execution_count": 2,
   "id": "93ddc8e8",
   "metadata": {},
   "outputs": [],
   "source": [
    "import ForwardDiff, FiniteDifferences"
   ]
  },
  {
   "cell_type": "markdown",
   "id": "da7489f8",
   "metadata": {},
   "source": [
    "FiniteDifferences differentiates scalar functions, and can also compute the gradient or Jacobian one component at a time.  \n",
    "\n",
    "Let's define a helper function to compute directional derivatives with FiniteDifferences, using the fact that $df = f'(x)dx = \\left. \\frac{d}{ds} f(x + s\\,dx) \\right|_{s=0}$:"
   ]
  },
  {
   "cell_type": "code",
   "execution_count": 3,
   "id": "cf73bd43",
   "metadata": {},
   "outputs": [
    {
     "data": {
      "text/plain": [
       "df_FD (generic function with 1 method)"
      ]
     },
     "execution_count": 3,
     "metadata": {},
     "output_type": "execute_result"
    }
   ],
   "source": [
    "df_FD(f, x, dx) = FiniteDifferences.extrapolate_fdm(FiniteDifferences.central_fdm(2, 1), s -> f(x + s*dx), 0, 1/norm(dx))[1]"
   ]
  },
  {
   "cell_type": "markdown",
   "id": "1b76884c",
   "metadata": {},
   "source": [
    "### (a) $f(x) = (x^T x)^4$"
   ]
  },
  {
   "cell_type": "code",
   "execution_count": 4,
   "id": "f96d9cd5",
   "metadata": {},
   "outputs": [
    {
     "data": {
      "text/plain": [
       "fa′ (generic function with 1 method)"
      ]
     },
     "execution_count": 4,
     "metadata": {},
     "output_type": "execute_result"
    }
   ],
   "source": [
    "fa(x) = (x'x)^4\n",
    "fa′(x) = 8(x'x)^3 * x'  # analytical Jacobian (= ∇faᵀ) from the solutions"
   ]
  },
  {
   "cell_type": "code",
   "execution_count": 5,
   "id": "1b6851d8",
   "metadata": {},
   "outputs": [
    {
     "data": {
      "text/plain": [
       "3.5871963177669386e-5"
      ]
     },
     "execution_count": 5,
     "metadata": {},
     "output_type": "execute_result"
    }
   ],
   "source": [
    "x = randn(5) # a random input\n",
    "dx = randn(5) * 1e-8 # a small random perturbation\n",
    "\n",
    "approx = fa(x+dx) - fa(x)"
   ]
  },
  {
   "cell_type": "code",
   "execution_count": 6,
   "id": "163ad288",
   "metadata": {},
   "outputs": [
    {
     "data": {
      "text/plain": [
       "3.587196202811543e-5"
      ]
     },
     "execution_count": 6,
     "metadata": {},
     "output_type": "execute_result"
    }
   ],
   "source": [
    "exact = fa′(x) * dx # directional derivative"
   ]
  },
  {
   "cell_type": "markdown",
   "id": "80bac0c4",
   "metadata": {},
   "source": [
    "Looks pretty good!  Let's check the relative error:"
   ]
  },
  {
   "cell_type": "code",
   "execution_count": 7,
   "id": "46c5c214",
   "metadata": {},
   "outputs": [
    {
     "data": {
      "text/plain": [
       "3.2046029059297376e-8"
      ]
     },
     "execution_count": 7,
     "metadata": {},
     "output_type": "execute_result"
    }
   ],
   "source": [
    "relerr(approx, exact)"
   ]
  },
  {
   "cell_type": "markdown",
   "id": "e066bca4",
   "metadata": {},
   "source": [
    "Good, it matche to > 7 digits!\n",
    "\n",
    "#### More checks, for \"fun\":\n",
    "\n",
    "Let's try the analytical AD derivative from `ForwardDiff`:"
   ]
  },
  {
   "cell_type": "code",
   "execution_count": 8,
   "id": "b3baa82c",
   "metadata": {},
   "outputs": [
    {
     "data": {
      "text/plain": [
       "3.587196202811543e-5"
      ]
     },
     "execution_count": 8,
     "metadata": {},
     "output_type": "execute_result"
    }
   ],
   "source": [
    "ad = ForwardDiff.gradient(fa, x)' * dx"
   ]
  },
  {
   "cell_type": "code",
   "execution_count": 9,
   "id": "4ff72342",
   "metadata": {},
   "outputs": [
    {
     "data": {
      "text/plain": [
       "0.0"
      ]
     },
     "execution_count": 9,
     "metadata": {},
     "output_type": "execute_result"
    }
   ],
   "source": [
    "relerr(exact, ad)"
   ]
  },
  {
   "cell_type": "markdown",
   "id": "49f01321",
   "metadata": {},
   "source": [
    "Yay, we are actually matching `ForwardDiff` *exactly*.  (In general, we will get a slight difference in the 15th digit or so, due to the roundoff errors in computer arithmetic.)\n",
    "\n",
    "Now, let's try the \"fancy\" high-order extrapolated finite difference from `FiniteDifferences`:"
   ]
  },
  {
   "cell_type": "code",
   "execution_count": 10,
   "id": "02c2cb08",
   "metadata": {},
   "outputs": [
    {
     "data": {
      "text/plain": [
       "3.587196202813507e-5"
      ]
     },
     "execution_count": 10,
     "metadata": {},
     "output_type": "execute_result"
    }
   ],
   "source": [
    "fd = df_FD(fa, x, dx)"
   ]
  },
  {
   "cell_type": "code",
   "execution_count": 11,
   "id": "5f70df0e",
   "metadata": {},
   "outputs": [
    {
     "data": {
      "text/plain": [
       "5.474362354015351e-13"
      ]
     },
     "execution_count": 11,
     "metadata": {},
     "output_type": "execute_result"
    }
   ],
   "source": [
    "relerr(exact, fd)"
   ]
  },
  {
   "cell_type": "markdown",
   "id": "4041f1c9",
   "metadata": {},
   "source": [
    "Yes, the \"fancy\" finite-difference method is actually accurate to nearly [machine precision](https://en.wikipedia.org/wiki/Machine_epsilon) — that is, nearly as accurate as we could possibly hope for given the finite precision of computer arithmetic.\n",
    "\n",
    "(However, it's much more computationally costly than the analytical derivative.)"
   ]
  },
  {
   "cell_type": "markdown",
   "id": "d94e75f2",
   "metadata": {},
   "source": [
    "In fact, using AD (or even FiniteDifferences, albeit at much greater computational cost), we can actually compute the whole gradient, not just the directional derivative:"
   ]
  },
  {
   "cell_type": "code",
   "execution_count": 12,
   "id": "d2e4f73f",
   "metadata": {},
   "outputs": [
    {
     "data": {
      "text/plain": [
       "5-element Vector{Float64}:\n",
       "  -343.4438670412682\n",
       "  -239.50385610105337\n",
       "   476.10330987985355\n",
       " -1966.428777053804\n",
       "    27.545862357599063"
      ]
     },
     "execution_count": 12,
     "metadata": {},
     "output_type": "execute_result"
    }
   ],
   "source": [
    "ForwardDiff.gradient(fa, x)"
   ]
  },
  {
   "cell_type": "markdown",
   "id": "9f37d47d",
   "metadata": {},
   "source": [
    "If we compare it to our gradient (= transpose of our Jacobian), we see that it matches as desired:"
   ]
  },
  {
   "cell_type": "code",
   "execution_count": 13,
   "id": "bf6ec5bf",
   "metadata": {},
   "outputs": [
    {
     "data": {
      "text/plain": [
       "0.0"
      ]
     },
     "execution_count": 13,
     "metadata": {},
     "output_type": "execute_result"
    }
   ],
   "source": [
    "relerr(fa′(x)', ForwardDiff.gradient(fa, x))"
   ]
  },
  {
   "cell_type": "markdown",
   "id": "06beb252",
   "metadata": {},
   "source": [
    "As we have discussed in class, and will discuss in more detail soon, \"forward-mode\" AD is not very efficient for differentiating functions with few outputs (here, 1 output!) and many inputs, and in the long run you are better off with \"reverse-mode\" AD for such cases.  `ForwardDiff` is a forward-mode algorithm, as the name implies, but there are other Julia packages for reverse-mode AD, such as the [Zygote.jl package](https://github.com/FluxML/Zygote.jl):"
   ]
  },
  {
   "cell_type": "code",
   "execution_count": 14,
   "id": "3d216cc8",
   "metadata": {},
   "outputs": [
    {
     "data": {
      "text/plain": [
       "5-element Vector{Float64}:\n",
       "  -343.4438670412682\n",
       "  -239.50385610105337\n",
       "   476.10330987985355\n",
       " -1966.428777053804\n",
       "    27.545862357599063"
      ]
     },
     "execution_count": 14,
     "metadata": {},
     "output_type": "execute_result"
    }
   ],
   "source": [
    "import Zygote\n",
    "Zygote.gradient(fa, x)[1]"
   ]
  },
  {
   "cell_type": "code",
   "execution_count": 15,
   "id": "c2e9dea1",
   "metadata": {},
   "outputs": [
    {
     "data": {
      "text/plain": [
       "0.0"
      ]
     },
     "execution_count": 15,
     "metadata": {},
     "output_type": "execute_result"
    }
   ],
   "source": [
    "relerr(fa′(x)', Zygote.gradient(fa, x)[1])"
   ]
  },
  {
   "cell_type": "markdown",
   "id": "09774633",
   "metadata": {},
   "source": [
    "Hooray, it matches Zygote too!    We are only doing small-scale calculations here, however, so for the rest of the notebook we will just use `ForwardDiff` and forward-mode AD."
   ]
  },
  {
   "cell_type": "markdown",
   "id": "59d13b5a",
   "metadata": {},
   "source": [
    "### (b) $f(x) = \\cos(x^T A x)$"
   ]
  },
  {
   "cell_type": "code",
   "execution_count": 16,
   "id": "dffab0a5",
   "metadata": {},
   "outputs": [
    {
     "data": {
      "text/plain": [
       "∇fb (generic function with 1 method)"
      ]
     },
     "execution_count": 16,
     "metadata": {},
     "output_type": "execute_result"
    }
   ],
   "source": [
    "fb(x, A) = cos(x'*A*x)\n",
    "∇fb(x, A) = -sin(x'*A*x) * (A + A') * x"
   ]
  },
  {
   "cell_type": "code",
   "execution_count": 17,
   "id": "a927a89b",
   "metadata": {},
   "outputs": [
    {
     "data": {
      "text/plain": [
       "1.959781246578459e-8"
      ]
     },
     "execution_count": 17,
     "metadata": {},
     "output_type": "execute_result"
    }
   ],
   "source": [
    "A = randn(5,5)\n",
    "\n",
    "approx = fb(x + dx, A) - fb(x, A)\n",
    "exact = ∇fb(x, A)' * dx # directional derivative df = ∇fᵀdx\n",
    "relerr(approx, exact)"
   ]
  },
  {
   "cell_type": "markdown",
   "id": "a6f4628d",
   "metadata": {},
   "source": [
    "Yay, again a match to 7–9 digits!"
   ]
  },
  {
   "cell_type": "markdown",
   "id": "61d2cf18",
   "metadata": {},
   "source": [
    "#### More checks, for \"fun\":"
   ]
  },
  {
   "cell_type": "code",
   "execution_count": 18,
   "id": "184ed6c0",
   "metadata": {},
   "outputs": [
    {
     "data": {
      "text/plain": [
       "5-element Vector{Float64}:\n",
       "  2.4186139556397603\n",
       "  2.068692383304104\n",
       " -2.220145661282068\n",
       "  3.5768159549935965\n",
       "  1.6594947068315289"
      ]
     },
     "execution_count": 18,
     "metadata": {},
     "output_type": "execute_result"
    }
   ],
   "source": [
    "ad = ForwardDiff.gradient(x -> fb(x,A), x)"
   ]
  },
  {
   "cell_type": "code",
   "execution_count": 19,
   "id": "8158364c",
   "metadata": {},
   "outputs": [
    {
     "data": {
      "text/plain": [
       "1.135229348700448e-16"
      ]
     },
     "execution_count": 19,
     "metadata": {},
     "output_type": "execute_result"
    }
   ],
   "source": [
    "relerr(∇fb(x, A), ad)"
   ]
  },
  {
   "cell_type": "markdown",
   "id": "17070092",
   "metadata": {},
   "source": [
    "Good, `ForwardDiff` matches our whole gradient, up to roundoff errors."
   ]
  },
  {
   "cell_type": "markdown",
   "id": "c103d4a7",
   "metadata": {},
   "source": [
    "### (c) $f(A) = \\operatorname{trace}(A^4)$"
   ]
  },
  {
   "cell_type": "code",
   "execution_count": 20,
   "id": "6b02f43e",
   "metadata": {},
   "outputs": [
    {
     "data": {
      "text/plain": [
       "1.8898259119934437e-8"
      ]
     },
     "execution_count": 20,
     "metadata": {},
     "output_type": "execute_result"
    }
   ],
   "source": [
    "fc(A) = tr(A^4)\n",
    "∇fc(A) = 4A'^3   # = 4(Aᵀ)³\n",
    "\n",
    "dA = randn(5,5) * 1e-8 # a random small matrix perturbation\n",
    "approx = fc(A + dA) - fc(A)\n",
    "exact = tr(∇fc(A)'dA) # the elementwise matrix dot product\n",
    "relerr(approx, exact)"
   ]
  },
  {
   "cell_type": "markdown",
   "id": "64decd36",
   "metadata": {},
   "source": [
    "Yay, it worked!"
   ]
  },
  {
   "cell_type": "markdown",
   "id": "ef211f17",
   "metadata": {},
   "source": [
    "### (d) $f(A) = A^4$"
   ]
  },
  {
   "cell_type": "code",
   "execution_count": 21,
   "id": "8fd698ce",
   "metadata": {},
   "outputs": [
    {
     "data": {
      "text/plain": [
       "1.2607914911733005e-8"
      ]
     },
     "execution_count": 21,
     "metadata": {},
     "output_type": "execute_result"
    }
   ],
   "source": [
    "f_d(A) = A^4\n",
    "f_d′(A,dA) = dA*A^3 + A*dA*A^2 + A^2*dA*A + A^3*dA\n",
    "\n",
    "approx = f_d(A + dA) - f_d(A)\n",
    "exact = f_d′(A,dA)\n",
    "relerr(approx, exact)"
   ]
  },
  {
   "cell_type": "markdown",
   "id": "749104b4",
   "metadata": {},
   "source": [
    "Hooray, it worked!\n",
    "\n",
    "For fun, let's check the wrong answer $4A^3 dA$, which only works in the unlikely event that $A$ and $dA$ commute:"
   ]
  },
  {
   "cell_type": "code",
   "execution_count": 22,
   "id": "717b850e",
   "metadata": {},
   "outputs": [
    {
     "data": {
      "text/plain": [
       "1.1383381060849134"
      ]
     },
     "execution_count": 22,
     "metadata": {},
     "output_type": "execute_result"
    }
   ],
   "source": [
    "relerr(4A^3*dA, exact)"
   ]
  },
  {
   "cell_type": "markdown",
   "id": "f47fed03",
   "metadata": {},
   "source": [
    "Yep, relative error of order 1 (100%) — definitely a bug."
   ]
  },
  {
   "cell_type": "markdown",
   "id": "e48e37a1",
   "metadata": {},
   "source": [
    "### (e) $f(A) = \\theta^T A$"
   ]
  },
  {
   "cell_type": "code",
   "execution_count": 23,
   "id": "6cb51500",
   "metadata": {},
   "outputs": [
    {
     "data": {
      "text/plain": [
       "9.880558358444516e-9"
      ]
     },
     "execution_count": 23,
     "metadata": {},
     "output_type": "execute_result"
    }
   ],
   "source": [
    "f_e(A, θ) = θ'A\n",
    "f_e′(θ, dA) = θ'dA\n",
    "θ = randn(5)\n",
    "approx = f_e(A+dA,θ) - f_e(A,θ)\n",
    "exact = f_e′(θ,dA)\n",
    "relerr(approx, exact)"
   ]
  },
  {
   "cell_type": "markdown",
   "id": "aec4509b",
   "metadata": {},
   "source": [
    "Hooray!\n",
    "\n",
    "Or… hooray?\n",
    "\n",
    "This function $f_e$ is actually *linear* in $A$, so our finite-difference approximation should be *exact*.     The problem is that we have lost *half* of our ≈15 significant digits due to [cancellation](https://en.wikipedia.org/wiki/Catastrophic_cancellation) roundoff error.   In this case, a much *bigger* $dA$ would have been better!  Let's try multiplying $dA$ by $10^8$:"
   ]
  },
  {
   "cell_type": "code",
   "execution_count": 24,
   "id": "93e334c4",
   "metadata": {},
   "outputs": [
    {
     "data": {
      "text/plain": [
       "1.7927480347228517e-16"
      ]
     },
     "execution_count": 24,
     "metadata": {},
     "output_type": "execute_result"
    }
   ],
   "source": [
    "approx = f_e(A+dA*1e8,θ) - f_e(A,θ)\n",
    "exact = f_e′(θ,dA*1e8)\n",
    "relerr(approx, exact)"
   ]
  },
  {
   "cell_type": "markdown",
   "id": "2301a08d",
   "metadata": {},
   "source": [
    "Now it is matching to 16 digits!   Finite differences and roundoff errors are tricky!"
   ]
  },
  {
   "cell_type": "markdown",
   "id": "553baee8",
   "metadata": {},
   "source": [
    "### (f) $f(x) = \\sin.(x)$"
   ]
  },
  {
   "cell_type": "markdown",
   "id": "f694464c",
   "metadata": {},
   "source": [
    "f_f(x) = sin.(x) # elementwise sine\n",
    "f_f′(x) = Diagonal(cos.(x)) # the Jacobian matrix"
   ]
  },
  {
   "cell_type": "markdown",
   "id": "45d1d58d",
   "metadata": {},
   "source": [
    "Here, we've used a special `Diagonal` matrix type built-in to Julia's `LinearAlgebra` library for efficiently working with diagonal matrices.  (It only actually stores the diagonal entries, and can multiply more quickly than a general matrix.)"
   ]
  },
  {
   "cell_type": "code",
   "execution_count": 29,
   "id": "f1a77971",
   "metadata": {},
   "outputs": [
    {
     "data": {
      "text/plain": [
       "f_f′ (generic function with 1 method)"
      ]
     },
     "execution_count": 29,
     "metadata": {},
     "output_type": "execute_result"
    }
   ],
   "source": [
    "f_f(x) = sin.(x)\n",
    "f_f′(x) = Diagonal(cos.(x))"
   ]
  },
  {
   "cell_type": "markdown",
   "id": "d76fd352",
   "metadata": {},
   "source": [
    "Let's check it:"
   ]
  },
  {
   "cell_type": "code",
   "execution_count": 30,
   "id": "eb8a6ee2",
   "metadata": {},
   "outputs": [
    {
     "data": {
      "text/plain": [
       "9.10312795714695e-9"
      ]
     },
     "execution_count": 30,
     "metadata": {},
     "output_type": "execute_result"
    }
   ],
   "source": [
    "approx = f_f(x+dx) - f_f(x)\n",
    "exact = f_f′(x) * dx\n",
    "relerr(approx, exact)"
   ]
  },
  {
   "cell_type": "markdown",
   "id": "7bfcfcb6",
   "metadata": {},
   "source": [
    "Great, it's matching!"
   ]
  },
  {
   "cell_type": "markdown",
   "id": "6e7aefa7",
   "metadata": {},
   "source": [
    "#### More checks, for \"fun\":\n",
    "\n",
    "Let's try automatic differentiation, which can compute the Jacobian for us, though it doesn't \"know\" that the Jacobian is sparse (mostly zero) / diagonal:"
   ]
  },
  {
   "cell_type": "code",
   "execution_count": 31,
   "id": "172de3eb",
   "metadata": {},
   "outputs": [
    {
     "data": {
      "text/plain": [
       "5×5 Matrix{Float64}:\n",
       "  0.933231   0.0        0.0        0.0        0.0\n",
       "  0.0        0.967341   0.0        0.0        0.0\n",
       "  0.0        0.0        0.873017   0.0        0.0\n",
       " -0.0       -0.0       -0.0       -0.508401  -0.0\n",
       "  0.0        0.0        0.0        0.0        0.999566"
      ]
     },
     "execution_count": 31,
     "metadata": {},
     "output_type": "execute_result"
    }
   ],
   "source": [
    "ad = ForwardDiff.jacobian(f_f, x)"
   ]
  },
  {
   "cell_type": "code",
   "execution_count": 32,
   "id": "4a9e7a4f",
   "metadata": {},
   "outputs": [
    {
     "data": {
      "text/plain": [
       "0.0"
      ]
     },
     "execution_count": 32,
     "metadata": {},
     "output_type": "execute_result"
    }
   ],
   "source": [
    "relerr(ad, f_f′(x))"
   ]
  },
  {
   "cell_type": "markdown",
   "id": "c6944ab0",
   "metadata": {},
   "source": [
    "Great, it's matching perfectly!"
   ]
  },
  {
   "cell_type": "markdown",
   "id": "bbd38535",
   "metadata": {},
   "source": [
    "## Problem 4\n",
    "\n",
    "You were *not* required to do any computational work for problem 4, but for fun let's check the result using the [Symbolics.jl](https://github.com/JuliaSymbolics/Symbolics.jl) computer-algebra (symbolic math) package:"
   ]
  },
  {
   "cell_type": "code",
   "execution_count": 2,
   "id": "98cf149b",
   "metadata": {},
   "outputs": [
    {
     "data": {
      "text/plain": [
       "2-element Vector{Symbolics.Arr{Num, 2}}:\n",
       " a[1:2,1:2]\n",
       " s[1:2,1:2]"
      ]
     },
     "execution_count": 2,
     "metadata": {},
     "output_type": "execute_result"
    }
   ],
   "source": [
    "using Symbolics\n",
    "\n",
    "@variables a[1:2,1:2] s[1:2,1:2]"
   ]
  },
  {
   "cell_type": "code",
   "execution_count": 4,
   "id": "beb77688",
   "metadata": {},
   "outputs": [
    {
     "data": {
      "text/latex": [
       "\\begin{equation}\n",
       "\\left[\n",
       "\\begin{array}{cc}\n",
       "a{{_1}}ˏ{_1} & a{{_1}}ˏ{_2} \\\\\n",
       "a{{_2}}ˏ{_1} & a{{_2}}ˏ{_2} \\\\\n",
       "\\end{array}\n",
       "\\right]\n",
       "\\end{equation}\n"
      ],
      "text/plain": [
       "2×2 Matrix{Num}:\n",
       " a[1, 1]  a[1, 2]\n",
       " a[2, 1]  a[2, 2]"
      ]
     },
     "execution_count": 4,
     "metadata": {},
     "output_type": "execute_result"
    }
   ],
   "source": [
    "A = collect(a)"
   ]
  },
  {
   "cell_type": "code",
   "execution_count": 5,
   "id": "c9737da0",
   "metadata": {},
   "outputs": [
    {
     "data": {
      "text/latex": [
       "\\begin{equation}\n",
       "\\left[\n",
       "\\begin{array}{cc}\n",
       "s{{_1}}ˏ{_1} & s{{_1}}ˏ{_2} \\\\\n",
       "s{{_1}}ˏ{_2} & s{{_2}}ˏ{_2} \\\\\n",
       "\\end{array}\n",
       "\\right]\n",
       "\\end{equation}\n"
      ],
      "text/plain": [
       "2×2 Matrix{Num}:\n",
       " s[1, 1]  s[1, 2]\n",
       " s[1, 2]  s[2, 2]"
      ]
     },
     "execution_count": 5,
     "metadata": {},
     "output_type": "execute_result"
    }
   ],
   "source": [
    "S = collect(s)\n",
    "S[2,1] = S[1,2]\n",
    "S"
   ]
  },
  {
   "cell_type": "code",
   "execution_count": 6,
   "id": "a5e63339",
   "metadata": {},
   "outputs": [
    {
     "data": {
      "text/latex": [
       "\\begin{equation}\n",
       "\\left[\n",
       "\\begin{array}{cc}\n",
       "\\left( a{{_1}}ˏ{_1} s{{_1}}ˏ{_1} + a{{_2}}ˏ{_1} s{{_1}}ˏ{_2} \\right) a{{_1}}ˏ{_1} + \\left( a{{_1}}ˏ{_1} s{{_1}}ˏ{_2} + a{{_2}}ˏ{_1} s{{_2}}ˏ{_2} \\right) a{{_2}}ˏ{_1} & \\left( a{{_1}}ˏ{_1} s{{_1}}ˏ{_1} + a{{_2}}ˏ{_1} s{{_1}}ˏ{_2} \\right) a{{_1}}ˏ{_2} + \\left( a{{_1}}ˏ{_1} s{{_1}}ˏ{_2} + a{{_2}}ˏ{_1} s{{_2}}ˏ{_2} \\right) a{{_2}}ˏ{_2} \\\\\n",
       "\\left( a{{_1}}ˏ{_2} s{{_1}}ˏ{_1} + a{{_2}}ˏ{_2} s{{_1}}ˏ{_2} \\right) a{{_1}}ˏ{_1} + \\left( a{{_1}}ˏ{_2} s{{_1}}ˏ{_2} + a{{_2}}ˏ{_2} s{{_2}}ˏ{_2} \\right) a{{_2}}ˏ{_1} & \\left( a{{_1}}ˏ{_2} s{{_1}}ˏ{_1} + a{{_2}}ˏ{_2} s{{_1}}ˏ{_2} \\right) a{{_1}}ˏ{_2} + \\left( a{{_1}}ˏ{_2} s{{_1}}ˏ{_2} + a{{_2}}ˏ{_2} s{{_2}}ˏ{_2} \\right) a{{_2}}ˏ{_2} \\\\\n",
       "\\end{array}\n",
       "\\right]\n",
       "\\end{equation}\n"
      ],
      "text/plain": [
       "2×2 Matrix{Num}:\n",
       " (a[1, 1]*s[1, 1] + a[2, 1]*s[1, 2])*a[1, 1] + (a[1, 1]*s[1, 2] + a[2, 1]*s[2, 2])*a[2, 1]  …  (a[1, 1]*s[1, 1] + a[2, 1]*s[1, 2])*a[1, 2] + (a[1, 1]*s[1, 2] + a[2, 1]*s[2, 2])*a[2, 2]\n",
       " (a[1, 2]*s[1, 1] + a[2, 2]*s[1, 2])*a[1, 1] + (a[1, 2]*s[1, 2] + a[2, 2]*s[2, 2])*a[2, 1]     (a[1, 2]*s[1, 1] + a[2, 2]*s[1, 2])*a[1, 2] + (a[1, 2]*s[1, 2] + a[2, 2]*s[2, 2])*a[2, 2]"
      ]
     },
     "execution_count": 6,
     "metadata": {},
     "output_type": "execute_result"
    }
   ],
   "source": [
    "Y = A'*S*A"
   ]
  },
  {
   "cell_type": "code",
   "execution_count": 8,
   "id": "80e6d4ce",
   "metadata": {},
   "outputs": [
    {
     "data": {
      "text/latex": [
       "\\begin{equation}\n",
       "\\left[\n",
       "\\begin{array}{c}\n",
       "s{{_1}}ˏ{_1} \\\\\n",
       "s{{_1}}ˏ{_2} \\\\\n",
       "s{{_2}}ˏ{_2} \\\\\n",
       "\\end{array}\n",
       "\\right]\n",
       "\\end{equation}\n"
      ],
      "text/plain": [
       "3-element Vector{Num}:\n",
       " s[1, 1]\n",
       " s[1, 2]\n",
       " s[2, 2]"
      ]
     },
     "execution_count": 8,
     "metadata": {},
     "output_type": "execute_result"
    }
   ],
   "source": [
    "s = [S[1,1],S[1,2],S[2,2]] # vector of unique inputs"
   ]
  },
  {
   "cell_type": "code",
   "execution_count": 9,
   "id": "bcb4aed6",
   "metadata": {},
   "outputs": [
    {
     "data": {
      "text/latex": [
       "\\begin{equation}\n",
       "\\left[\n",
       "\\begin{array}{c}\n",
       "\\left( a{{_1}}ˏ{_1} s{{_1}}ˏ{_1} + a{{_2}}ˏ{_1} s{{_1}}ˏ{_2} \\right) a{{_1}}ˏ{_1} + \\left( a{{_1}}ˏ{_1} s{{_1}}ˏ{_2} + a{{_2}}ˏ{_1} s{{_2}}ˏ{_2} \\right) a{{_2}}ˏ{_1} \\\\\n",
       "\\left( a{{_1}}ˏ{_1} s{{_1}}ˏ{_1} + a{{_2}}ˏ{_1} s{{_1}}ˏ{_2} \\right) a{{_1}}ˏ{_2} + \\left( a{{_1}}ˏ{_1} s{{_1}}ˏ{_2} + a{{_2}}ˏ{_1} s{{_2}}ˏ{_2} \\right) a{{_2}}ˏ{_2} \\\\\n",
       "\\left( a{{_1}}ˏ{_2} s{{_1}}ˏ{_1} + a{{_2}}ˏ{_2} s{{_1}}ˏ{_2} \\right) a{{_1}}ˏ{_2} + \\left( a{{_1}}ˏ{_2} s{{_1}}ˏ{_2} + a{{_2}}ˏ{_2} s{{_2}}ˏ{_2} \\right) a{{_2}}ˏ{_2} \\\\\n",
       "\\end{array}\n",
       "\\right]\n",
       "\\end{equation}\n"
      ],
      "text/plain": [
       "3-element Vector{Num}:\n",
       " (a[1, 1]*s[1, 1] + a[2, 1]*s[1, 2])*a[1, 1] + (a[1, 1]*s[1, 2] + a[2, 1]*s[2, 2])*a[2, 1]\n",
       " (a[1, 1]*s[1, 1] + a[2, 1]*s[1, 2])*a[1, 2] + (a[1, 1]*s[1, 2] + a[2, 1]*s[2, 2])*a[2, 2]\n",
       " (a[1, 2]*s[1, 1] + a[2, 2]*s[1, 2])*a[1, 2] + (a[1, 2]*s[1, 2] + a[2, 2]*s[2, 2])*a[2, 2]"
      ]
     },
     "execution_count": 9,
     "metadata": {},
     "output_type": "execute_result"
    }
   ],
   "source": [
    "y = [Y[1,1],Y[1,2],Y[2,2]] # vector of unique outputs"
   ]
  },
  {
   "cell_type": "code",
   "execution_count": 10,
   "id": "cb4117a3",
   "metadata": {},
   "outputs": [
    {
     "data": {
      "text/latex": [
       "\\begin{equation}\n",
       "\\left[\n",
       "\\begin{array}{ccc}\n",
       "a{{_1}}ˏ{_1}^{2} & 2 a{{_1}}ˏ{_1} a{{_2}}ˏ{_1} & a{{_2}}ˏ{_1}^{2} \\\\\n",
       "a{{_1}}ˏ{_1} a{{_1}}ˏ{_2} & a{{_1}}ˏ{_2} a{{_2}}ˏ{_1} + a{{_1}}ˏ{_1} a{{_2}}ˏ{_2} & a{{_2}}ˏ{_1} a{{_2}}ˏ{_2} \\\\\n",
       "a{{_1}}ˏ{_2}^{2} & 2 a{{_1}}ˏ{_2} a{{_2}}ˏ{_2} & a{{_2}}ˏ{_2}^{2} \\\\\n",
       "\\end{array}\n",
       "\\right]\n",
       "\\end{equation}\n"
      ],
      "text/plain": [
       "3×3 Matrix{Num}:\n",
       "       a[1, 1]^2                   2a[1, 1]*a[2, 1]        a[2, 1]^2\n",
       " a[1, 1]*a[1, 2]  a[1, 2]*a[2, 1] + a[1, 1]*a[2, 2]  a[2, 1]*a[2, 2]\n",
       "       a[1, 2]^2                   2a[1, 2]*a[2, 2]        a[2, 2]^2"
      ]
     },
     "execution_count": 10,
     "metadata": {},
     "output_type": "execute_result"
    }
   ],
   "source": [
    "Symbolics.jacobian(y, s)"
   ]
  },
  {
   "cell_type": "markdown",
   "id": "47f5ac32",
   "metadata": {},
   "source": [
    "This matches our hand-calculated solution, but a heck of a lot more easily!"
   ]
  }
 ],
 "metadata": {
  "@webio": {
   "lastCommId": null,
   "lastKernelId": null
  },
  "kernelspec": {
   "display_name": "Julia 1.7.1",
   "language": "julia",
   "name": "julia-1.7"
  },
  "language_info": {
   "file_extension": ".jl",
   "mimetype": "application/julia",
   "name": "julia",
   "version": "1.7.1"
  }
 },
 "nbformat": 4,
 "nbformat_minor": 5
}
